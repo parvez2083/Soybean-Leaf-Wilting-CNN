{
 "cells": [
  {
   "cell_type": "code",
   "execution_count": 1,
   "metadata": {},
   "outputs": [
    {
     "name": "stderr",
     "output_type": "stream",
     "text": [
      "C:\\tools\\Anaconda3\\envs\\tf\\lib\\site-packages\\h5py\\__init__.py:72: UserWarning: h5py is running against HDF5 1.10.2 when it was built against 1.10.3, this may cause problems\n",
      "  '{0}.{1}.{2}'.format(*version.hdf5_built_version_tuple)\n"
     ]
    }
   ],
   "source": [
    "import os\n",
    "import cv2\n",
    "import matplotlib.pyplot as plt\n",
    "import pandas as pd\n",
    "import numpy as np\n",
    "import tensorflow as tf\n",
    "\n",
    "from sklearn.model_selection import train_test_split"
   ]
  },
  {
   "cell_type": "code",
   "execution_count": 2,
   "metadata": {},
   "outputs": [],
   "source": [
    "def read_training_images(train_files, train_dir):\n",
    "    \"\"\"\n",
    "    A method that reads the training image files in a given directory and returns the list of all images as numpy arrays\n",
    "    \"\"\"\n",
    "\n",
    "    images=[]\n",
    "    n=0\n",
    "    for img_name in train_files.file_name:\n",
    "        image_path = os.path.join(train_dir, img_name)\n",
    "        img = cv2.imread(image_path)\n",
    "        # img = np.expand_dims(cv2.resize(img, dsize=(COLS, ROWS), interpolation=cv2.INTER_CUBIC), axis=2)\n",
    "        # .flatten()\n",
    "        # print(n)\n",
    "        # print(type(img))\n",
    "        # print(img.shape)\n",
    "        # cv2.imshow('image', img)\n",
    "        # cv2.waitKey(0)\n",
    "        # cv2.destroyAllWindows()\n",
    "        img = img.astype('float32')\n",
    "        images.append(img)\n",
    "        n+=1\n",
    "    print(\"Number of training images read = {}\".format(n))\n",
    "\n",
    "    return images"
   ]
  },
  {
   "cell_type": "code",
   "execution_count": 3,
   "metadata": {},
   "outputs": [],
   "source": [
    "def read_testing_images(directory):\n",
    "    \"\"\"\n",
    "    A method that reads the test image files in a given directory and returns the list of all images as numpy arrays\n",
    "    \"\"\"\n",
    "    files = os.listdir(directory)\n",
    "\n",
    "    images=[]\n",
    "    m=0\n",
    "    for fil in files:\n",
    "        image_path = os.path.join(directory, fil)\n",
    "        img = cv2.imread(image_path)\n",
    "        # img = np.expand_dims(cv2.resize(img, dsize=(COLS, ROWS), interpolation=cv2.INTER_CUBIC), axis=2)\n",
    "        img = img.astype('float32')\n",
    "        images.append(img)\n",
    "        m+=1\n",
    "    print(\"Number of testing images read = {}\".format(m))\n",
    "\n",
    "    return images"
   ]
  },
  {
   "cell_type": "code",
   "execution_count": 4,
   "metadata": {},
   "outputs": [],
   "source": [
    "def custom_model(layer1_size, layer2_size, layer3_size, dropout):\n",
    "    \n",
    "    # initialize the model from the keras library   \n",
    "#     custom_model = tf.keras.applications.VGG19(include_top=False,\n",
    "#                                          weights=\"imagenet\",\n",
    "#                                          input_shape=(480, 640, 3),\n",
    "#                                          classes=5)\n",
    "    \n",
    "    \n",
    "    # initialize the VGG16 model from the keras library\n",
    "    custom_model = tf.keras.applications.VGG16(include_top=False,\n",
    "                                              weights=\"imagenet\",\n",
    "                                              input_shape=(480, 640, 3),\n",
    "                                              classes=5)\n",
    "    \n",
    "    model = tf.keras.Sequential()   \n",
    "    \n",
    "#     custom_model.summary()\n",
    "\n",
    "    # Freeze the layers\n",
    "    custom_model.trainable = False\n",
    "    \n",
    "    model.add(custom_model)\n",
    "    model.add(tf.keras.layers.Flatten())\n",
    "    model.add(tf.keras.layers.Dense(layer1_size, activation=\"relu\"))\n",
    "    model.add(tf.keras.layers.Dropout(dropout))\n",
    "    model.add(tf.keras.layers.Dense(layer2_size, activation=\"relu\"))\n",
    "    model.add(tf.keras.layers.Dropout(dropout))\n",
    "    model.add(tf.keras.layers.Dense(layer3_size, activation=\"relu\"))\n",
    "    model.add(tf.keras.layers.Dropout(dropout))\n",
    "\n",
    "    # Add 'softmax' instead of earlier 'prediction' layer.\n",
    "    model.add(tf.keras.layers.Dense(5, activation='softmax'))\n",
    "\n",
    "    return model"
   ]
  },
  {
   "cell_type": "code",
   "execution_count": 5,
   "metadata": {},
   "outputs": [],
   "source": [
    "def generate_plots(model_history, epochs):\n",
    "    \"\"\"\n",
    "    A method that takes the model history of a trained model and plots its:\n",
    "    1. Training accuracy\n",
    "    2. Training loss\n",
    "    3. Validation accuracy\n",
    "    4. Validation loss\n",
    "    \"\"\"\n",
    "    acc = model_history.history['acc']\n",
    "    val_acc = model_history.history['val_acc']\n",
    "    loss = model_history.history['loss']\n",
    "    val_loss = model_history.history['val_loss']\n",
    "\n",
    "\n",
    "    plt.figure(1)\n",
    "    plt.suptitle('Accuracy learning curve', fontsize=20)\n",
    "    plt.xlabel('epochs', fontsize=14)\n",
    "    plt.ylabel('accuracy', fontsize=14)\n",
    "    plt.plot(acc, label='training accuracy')\n",
    "    plt.plot(val_acc, label='validation accuracy')\n",
    "    plt.xticks(np.arange(0, epochs + epochs/10, epochs/10))\n",
    "    plt.legend(loc=\"lower right\")\n",
    "    plt.savefig(\"accuracy.png\", dpi=300)\n",
    "\n",
    "    plt.figure(2)\n",
    "    plt.suptitle('Loss learning curve', fontsize=20)\n",
    "    plt.xlabel('epochs', fontsize=14)\n",
    "    plt.ylabel('loss', fontsize=14)\n",
    "    plt.plot(loss, label='training loss')\n",
    "    plt.plot(val_loss, label='validation loss')\n",
    "    plt.xticks(np.arange(0, epochs + epochs/10, epochs/10))\n",
    "    plt.legend(loc=\"upper right\")\n",
    "    plt.savefig(\"loss.png\", dpi=300)"
   ]
  },
  {
   "cell_type": "code",
   "execution_count": 6,
   "metadata": {},
   "outputs": [],
   "source": [
    "def best_results(model_history):\n",
    "    \"\"\"\n",
    "    A method that prints the best validation accuracy and loss to a best_results.txt file.\n",
    "    \"\"\"\n",
    "    acc = model_history.history['acc']\n",
    "    val_acc = model_history.history['val_acc']\n",
    "    loss = model_history.history['loss']\n",
    "    val_loss = model_history.history['val_loss']\n",
    "\n",
    "    \n",
    "    f = open(\"best_results.txt\", \"w+\")\n",
    "    f.write(\"Training accuracy = {}\\n\".format(acc))\n",
    "    f.write(\"----------------------\\n\")\n",
    "    f.write(\"Training loss = {}\\n\".format(loss))\n",
    "    f.write(\"----------------------\\n\")\n",
    "    f.write(\"Validation accuracy = {}\\n\".format(val_acc))\n",
    "    f.write(\"----------------------\\n\")\n",
    "    f.write(\"Validation loss = {}\\n\".format(val_loss))\n",
    "    f.write(\"----------------------\\n\")\n",
    "    f.write(\"----------------------\\n\\n\")\n",
    "    f.close()"
   ]
  },
  {
   "cell_type": "code",
   "execution_count": 7,
   "metadata": {},
   "outputs": [
    {
     "name": "stdout",
     "output_type": "stream",
     "text": [
      "Number of training images read = 896\n",
      "Number of testing images read = 129\n",
      "Shape of training set: (716, 480, 640, 3)\n",
      "Shape of validation set: (180, 480, 640, 3)\n",
      "Shape of testing set: (129, 480, 640, 3)\n"
     ]
    }
   ],
   "source": [
    "save_model = \"saved_models\"\n",
    "os.makedirs(save_model, exist_ok=True)\n",
    "\n",
    "# Initialize the directories\n",
    "root_dir = os.path.abspath('./')\n",
    "train_dir = os.path.join(root_dir, 'Training')\n",
    "test_dir = os.path.join(root_dir, 'Project_C2_Testing')\n",
    "model_save_dir = os.path.join(root_dir, save_model)\n",
    "\n",
    "\n",
    "train_files = pd.read_csv(os.path.join(root_dir, 'train_files.csv'))\n",
    "\n",
    "# set constants\n",
    "COLS, ROWS, CHANNEL = 480, 640, 3\n",
    "\n",
    "# read the training and testing images\n",
    "training_images = read_training_images(train_files, train_dir)\n",
    "testing_images = read_testing_images(test_dir)\n",
    "\n",
    "\n",
    "X_train = np.stack(training_images)\n",
    "y_train = train_files.annotation.values\n",
    "X_test = np.stack(testing_images)\n",
    "\n",
    "\n",
    "# Split the training data in training and validation sets\n",
    "X_train, X_val, y_train, y_val = train_test_split(X_train, y_train, test_size=0.2, random_state=None, shuffle=True, stratify=y_train)\n",
    "\n",
    "print(\"Shape of training set: {}\".format(X_train.shape))\n",
    "print(\"Shape of validation set: {}\".format(X_val.shape))\n",
    "print(\"Shape of testing set: {}\".format(X_test.shape))    "
   ]
  },
  {
   "cell_type": "code",
   "execution_count": 8,
   "metadata": {},
   "outputs": [],
   "source": [
    "# training variables\n",
    "EPOCHS = 50\n",
    "BATCH_SIZE = 16\n",
    "\n",
    "model = \"VGG16\"\n",
    "l1 = 512\n",
    "l2 = 512\n",
    "l3 = 256\n",
    "dropout = 0.4\n",
    "PARAM_STRING = \"{}_{}_{}_{}_{}\".format(model, l1, l2, l3, dropout)"
   ]
  },
  {
   "cell_type": "code",
   "execution_count": 9,
   "metadata": {},
   "outputs": [
    {
     "name": "stdout",
     "output_type": "stream",
     "text": [
      "-------------------\n",
      "Compiling model\n",
      "-------------------\n",
      "WARNING:tensorflow:ModelCheckpoint mode main is unknown, fallback to auto mode.\n",
      "WARNING:tensorflow:From C:\\tools\\Anaconda3\\envs\\tf\\lib\\site-packages\\tensorflow\\python\\ops\\init_ops.py:1251: calling VarianceScaling.__init__ (from tensorflow.python.ops.init_ops) with dtype is deprecated and will be removed in a future version.\n",
      "Instructions for updating:\n",
      "Call initializer instance with the dtype argument instead of passing it to the constructor\n",
      "Model: \"sequential\"\n",
      "_________________________________________________________________\n",
      "Layer (type)                 Output Shape              Param #   \n",
      "=================================================================\n",
      "vgg16 (Model)                (None, 15, 20, 512)       14714688  \n",
      "_________________________________________________________________\n",
      "flatten (Flatten)            (None, 153600)            0         \n",
      "_________________________________________________________________\n",
      "dense (Dense)                (None, 512)               78643712  \n",
      "_________________________________________________________________\n",
      "dropout (Dropout)            (None, 512)               0         \n",
      "_________________________________________________________________\n",
      "dense_1 (Dense)              (None, 512)               262656    \n",
      "_________________________________________________________________\n",
      "dropout_1 (Dropout)          (None, 512)               0         \n",
      "_________________________________________________________________\n",
      "dense_2 (Dense)              (None, 256)               131328    \n",
      "_________________________________________________________________\n",
      "dropout_2 (Dropout)          (None, 256)               0         \n",
      "_________________________________________________________________\n",
      "dense_3 (Dense)              (None, 5)                 1285      \n",
      "=================================================================\n",
      "Total params: 93,753,669\n",
      "Trainable params: 79,038,981\n",
      "Non-trainable params: 14,714,688\n",
      "_________________________________________________________________\n"
     ]
    }
   ],
   "source": [
    "print(\"-------------------\")\n",
    "print(\"Compiling model\")\n",
    "print(\"-------------------\")\n",
    "\n",
    "es = tf.keras.callbacks.EarlyStopping(monitor='val_loss', patience=10)\n",
    "mc = tf.keras.callbacks.ModelCheckpoint('{}/best_model.h5'.format(model_save_dir), monitor='val_loss', mode='main', save_best_only=True, verbose=1)\n",
    "\n",
    "# initialize the model\n",
    "model = custom_model(l1, l2, l3, dropout)\n",
    "\n",
    "model.summary()\n",
    "\n",
    "model.compile(loss=tf.keras.losses.sparse_categorical_crossentropy,\n",
    "                optimizer=tf.keras.optimizers.Adam(),\n",
    "                metrics=['accuracy'])"
   ]
  },
  {
   "cell_type": "code",
   "execution_count": 10,
   "metadata": {},
   "outputs": [
    {
     "name": "stdout",
     "output_type": "stream",
     "text": [
      "-------------------\n",
      "Training model\n",
      "-------------------\n",
      "Train on 716 samples, validate on 180 samples\n",
      "Epoch 1/50\n",
      "704/716 [============================>.] - ETA: 0s - loss: 43.2213 - acc: 0.4460\n",
      "Epoch 00001: val_loss improved from inf to 6.79552, saving model to C:\\Users\\knarang\\Documents\\C2\\Soybean-Leaf-Wilting-CNN\\saved_models/best_model.h5\n",
      "716/716 [==============================] - 21s 29ms/sample - loss: 42.9766 - acc: 0.4469 - val_loss: 6.7955 - val_acc: 0.6333\n",
      "Epoch 2/50\n",
      "704/716 [============================>.] - ETA: 0s - loss: 12.6835 - acc: 0.5824\n",
      "Epoch 00002: val_loss improved from 6.79552 to 4.22676, saving model to C:\\Users\\knarang\\Documents\\C2\\Soybean-Leaf-Wilting-CNN\\saved_models/best_model.h5\n",
      "716/716 [==============================] - 13s 18ms/sample - loss: 12.6484 - acc: 0.5838 - val_loss: 4.2268 - val_acc: 0.6889\n",
      "Epoch 3/50\n",
      "704/716 [============================>.] - ETA: 0s - loss: 6.4246 - acc: 0.6705\n",
      "Epoch 00003: val_loss improved from 4.22676 to 3.24783, saving model to C:\\Users\\knarang\\Documents\\C2\\Soybean-Leaf-Wilting-CNN\\saved_models/best_model.h5\n",
      "716/716 [==============================] - 13s 18ms/sample - loss: 6.5366 - acc: 0.6704 - val_loss: 3.2478 - val_acc: 0.6778\n",
      "Epoch 4/50\n",
      "704/716 [============================>.] - ETA: 0s - loss: 5.0348 - acc: 0.6619\n",
      "Epoch 00004: val_loss improved from 3.24783 to 2.28861, saving model to C:\\Users\\knarang\\Documents\\C2\\Soybean-Leaf-Wilting-CNN\\saved_models/best_model.h5\n",
      "716/716 [==============================] - 13s 18ms/sample - loss: 4.9576 - acc: 0.6648 - val_loss: 2.2886 - val_acc: 0.6889\n",
      "Epoch 5/50\n",
      "704/716 [============================>.] - ETA: 0s - loss: 4.7498 - acc: 0.7088\n",
      "Epoch 00005: val_loss did not improve from 2.28861\n",
      "716/716 [==============================] - 12s 17ms/sample - loss: 4.7410 - acc: 0.7095 - val_loss: 3.3160 - val_acc: 0.7667\n",
      "Epoch 6/50\n",
      "704/716 [============================>.] - ETA: 0s - loss: 2.6936 - acc: 0.7798\n",
      "Epoch 00006: val_loss did not improve from 2.28861\n",
      "716/716 [==============================] - 12s 16ms/sample - loss: 2.7063 - acc: 0.7793 - val_loss: 2.5029 - val_acc: 0.7333\n",
      "Epoch 7/50\n",
      "704/716 [============================>.] - ETA: 0s - loss: 2.1416 - acc: 0.7983\n",
      "Epoch 00007: val_loss improved from 2.28861 to 1.23747, saving model to C:\\Users\\knarang\\Documents\\C2\\Soybean-Leaf-Wilting-CNN\\saved_models/best_model.h5\n",
      "716/716 [==============================] - 13s 18ms/sample - loss: 2.1132 - acc: 0.7989 - val_loss: 1.2375 - val_acc: 0.7722\n",
      "Epoch 8/50\n",
      "704/716 [============================>.] - ETA: 0s - loss: 2.0399 - acc: 0.8097\n",
      "Epoch 00008: val_loss did not improve from 1.23747\n",
      "716/716 [==============================] - 12s 16ms/sample - loss: 2.0060 - acc: 0.8128 - val_loss: 1.4574 - val_acc: 0.7722\n",
      "Epoch 9/50\n",
      "704/716 [============================>.] - ETA: 0s - loss: 1.7329 - acc: 0.7955\n",
      "Epoch 00009: val_loss did not improve from 1.23747\n",
      "716/716 [==============================] - 12s 16ms/sample - loss: 1.7648 - acc: 0.7947 - val_loss: 1.2857 - val_acc: 0.7333\n",
      "Epoch 10/50\n",
      "704/716 [============================>.] - ETA: 0s - loss: 1.2291 - acc: 0.8210\n",
      "Epoch 00010: val_loss did not improve from 1.23747\n",
      "716/716 [==============================] - 12s 17ms/sample - loss: 1.3391 - acc: 0.8198 - val_loss: 1.3258 - val_acc: 0.7778\n",
      "Epoch 11/50\n",
      "704/716 [============================>.] - ETA: 0s - loss: 1.0663 - acc: 0.8466\n",
      "Epoch 00011: val_loss did not improve from 1.23747\n",
      "716/716 [==============================] - 12s 17ms/sample - loss: 1.0787 - acc: 0.8464 - val_loss: 2.1805 - val_acc: 0.7611\n",
      "Epoch 12/50\n",
      "704/716 [============================>.] - ETA: 0s - loss: 1.0574 - acc: 0.8651\n",
      "Epoch 00012: val_loss did not improve from 1.23747\n",
      "716/716 [==============================] - 12s 17ms/sample - loss: 1.0416 - acc: 0.8673 - val_loss: 1.7609 - val_acc: 0.7611\n",
      "Epoch 13/50\n",
      "704/716 [============================>.] - ETA: 0s - loss: 0.8277 - acc: 0.8594\n",
      "Epoch 00013: val_loss did not improve from 1.23747\n",
      "716/716 [==============================] - 12s 16ms/sample - loss: 0.8152 - acc: 0.8603 - val_loss: 1.7918 - val_acc: 0.7500\n",
      "Epoch 14/50\n",
      "704/716 [============================>.] - ETA: 0s - loss: 0.9793 - acc: 0.8693\n",
      "Epoch 00014: val_loss did not improve from 1.23747\n",
      "716/716 [==============================] - 12s 16ms/sample - loss: 0.9818 - acc: 0.8673 - val_loss: 1.2627 - val_acc: 0.7667\n",
      "Epoch 15/50\n",
      "704/716 [============================>.] - ETA: 0s - loss: 0.7877 - acc: 0.8864\n",
      "Epoch 00015: val_loss did not improve from 1.23747\n",
      "716/716 [==============================] - 12s 17ms/sample - loss: 0.7806 - acc: 0.8869 - val_loss: 1.5872 - val_acc: 0.7778\n",
      "Epoch 16/50\n",
      "704/716 [============================>.] - ETA: 0s - loss: 0.8710 - acc: 0.8878\n",
      "Epoch 00016: val_loss did not improve from 1.23747\n",
      "716/716 [==============================] - 13s 18ms/sample - loss: 0.8689 - acc: 0.8855 - val_loss: 1.6304 - val_acc: 0.7833\n",
      "Epoch 17/50\n",
      "704/716 [============================>.] - ETA: 0s - loss: 0.7024 - acc: 0.8906\n",
      "Epoch 00017: val_loss did not improve from 1.23747\n",
      "716/716 [==============================] - 12s 16ms/sample - loss: 0.6906 - acc: 0.8925 - val_loss: 1.6688 - val_acc: 0.8000\n"
     ]
    }
   ],
   "source": [
    "print(\"-------------------\")\n",
    "print(\"Training model\")\n",
    "print(\"-------------------\")\n",
    "\n",
    "with tf.device('/device:GPU:0'):\n",
    "    history = model.fit(X_train, y_train, batch_size=BATCH_SIZE, epochs=EPOCHS, callbacks=[es, mc], validation_data=(X_val, y_val))"
   ]
  },
  {
   "cell_type": "code",
   "execution_count": 11,
   "metadata": {},
   "outputs": [],
   "source": [
    "model.save('{}/best_model.h5'.format(model_save_dir)) \n",
    "\n",
    "# Recreate the exact same model, including its weights and the optimizer\n",
    "# new_model = tf.keras.models.load_model('my_model.h5')\n",
    "\n",
    "# Show the model architecture\n",
    "# new_model.summary()"
   ]
  },
  {
   "cell_type": "code",
   "execution_count": 12,
   "metadata": {},
   "outputs": [
    {
     "data": {
      "image/png": "[encoded data removed]",
      "text/plain": [
       "<Figure size 432x288 with 1 Axes>"
      ]
     },
     "metadata": {
      "needs_background": "light"
     },
     "output_type": "display_data"
    },
    {
     "data": {
      "image/png": "[encoded data removed]",
      "text/plain": [
       "<Figure size 432x288 with 1 Axes>"
      ]
     },
     "metadata": {
      "needs_background": "light"
     },
     "output_type": "display_data"
    }
   ],
   "source": [
    "predictions = model.predict(X_test, batch_size=16)\n",
    "\n",
    "generate_plots(history, EPOCHS)\n",
    "\n",
    "best_results(history)"
   ]
  },
  {
   "cell_type": "code",
   "execution_count": 13,
   "metadata": {},
   "outputs": [],
   "source": [
    "labels = [np.argmax(prediction) for prediction in predictions]\n",
    "\n",
    "y_pred = tf.keras.utils.to_categorical(labels)\n",
    "np.savetxt(\"./predictions.csv\", y_pred, fmt=\"%d\", delimiter=\",\")"
   ]
  },
  {
   "cell_type": "code",
   "execution_count": 14,
   "metadata": {},
   "outputs": [
    {
     "name": "stdout",
     "output_type": "stream",
     "text": [
      "WARNING:tensorflow:From C:\\tools\\Anaconda3\\envs\\tf\\lib\\site-packages\\tensorflow\\python\\ops\\init_ops.py:97: calling GlorotUniform.__init__ (from tensorflow.python.ops.init_ops) with dtype is deprecated and will be removed in a future version.\n",
      "Instructions for updating:\n",
      "Call initializer instance with the dtype argument instead of passing it to the constructor\n",
      "WARNING:tensorflow:From C:\\tools\\Anaconda3\\envs\\tf\\lib\\site-packages\\tensorflow\\python\\ops\\init_ops.py:97: calling Zeros.__init__ (from tensorflow.python.ops.init_ops) with dtype is deprecated and will be removed in a future version.\n",
      "Instructions for updating:\n",
      "Call initializer instance with the dtype argument instead of passing it to the constructor\n",
      "Model: \"sequential\"\n",
      "_________________________________________________________________\n",
      "Layer (type)                 Output Shape              Param #   \n",
      "=================================================================\n",
      "vgg16 (Model)                (None, 15, 20, 512)       14714688  \n",
      "_________________________________________________________________\n",
      "flatten (Flatten)            (None, 153600)            0         \n",
      "_________________________________________________________________\n",
      "dense (Dense)                (None, 512)               78643712  \n",
      "_________________________________________________________________\n",
      "dropout (Dropout)            (None, 512)               0         \n",
      "_________________________________________________________________\n",
      "dense_1 (Dense)              (None, 512)               262656    \n",
      "_________________________________________________________________\n",
      "dropout_1 (Dropout)          (None, 512)               0         \n",
      "_________________________________________________________________\n",
      "dense_2 (Dense)              (None, 256)               131328    \n",
      "_________________________________________________________________\n",
      "dropout_2 (Dropout)          (None, 256)               0         \n",
      "_________________________________________________________________\n",
      "dense_3 (Dense)              (None, 5)                 1285      \n",
      "=================================================================\n",
      "Total params: 93,753,669\n",
      "Trainable params: 79,038,981\n",
      "Non-trainable params: 14,714,688\n",
      "_________________________________________________________________\n"
     ]
    }
   ],
   "source": [
    "# Recreate the exact same model, including its weights and the optimizer\n",
    "new_model = tf.keras.models.load_model('{}/best_model.h5'.format(model_save_dir))\n",
    "\n",
    "# Show the model architecture\n",
    "new_model.summary()"
   ]
  },
  {
   "cell_type": "code",
   "execution_count": null,
   "metadata": {},
   "outputs": [],
   "source": []
  }
 ],
 "metadata": {
  "kernelspec": {
   "display_name": "Python 3",
   "language": "python",
   "name": "python3"
  },
  "language_info": {
   "codemirror_mode": {
    "name": "ipython",
    "version": 3
   },
   "file_extension": ".py",
   "mimetype": "text/x-python",
   "name": "python",
   "nbconvert_exporter": "python",
   "pygments_lexer": "ipython3",
   "version": "3.7.4"
  }
 },
 "nbformat": 4,
 "nbformat_minor": 2
}
