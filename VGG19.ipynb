{
 "cells": [
  {
   "cell_type": "code",
   "execution_count": 1,
   "metadata": {},
   "outputs": [
    {
     "name": "stderr",
     "output_type": "stream",
     "text": [
      "C:\\tools\\Anaconda3\\envs\\tf\\lib\\site-packages\\h5py\\__init__.py:72: UserWarning: h5py is running against HDF5 1.10.2 when it was built against 1.10.3, this may cause problems\n",
      "  '{0}.{1}.{2}'.format(*version.hdf5_built_version_tuple)\n"
     ]
    }
   ],
   "source": [
    "import os\n",
    "import cv2\n",
    "import matplotlib.pyplot as plt\n",
    "import pandas as pd\n",
    "import numpy as np\n",
    "import tensorflow as tf\n",
    "\n",
    "from sklearn.model_selection import train_test_split"
   ]
  },
  {
   "cell_type": "code",
   "execution_count": 2,
   "metadata": {},
   "outputs": [],
   "source": [
    "def read_training_images(train_files, train_dir):\n",
    "    \"\"\"\n",
    "    A method that reads the training image files in a given directory and returns the list of all images as numpy arrays\n",
    "    \"\"\"\n",
    "\n",
    "    images=[]\n",
    "    n=0\n",
    "    for img_name in train_files.file_name:\n",
    "        image_path = os.path.join(train_dir, img_name)\n",
    "        img = cv2.imread(image_path)\n",
    "        # img = np.expand_dims(cv2.resize(img, dsize=(COLS, ROWS), interpolation=cv2.INTER_CUBIC), axis=2)\n",
    "        # .flatten()\n",
    "        # print(n)\n",
    "        # print(type(img))\n",
    "        # print(img.shape)\n",
    "        # cv2.imshow('image', img)\n",
    "        # cv2.waitKey(0)\n",
    "        # cv2.destroyAllWindows()\n",
    "        img = img.astype('float32')\n",
    "        images.append(img)\n",
    "        n+=1\n",
    "    print(\"Number of training images read = {}\".format(n))\n",
    "\n",
    "    return images"
   ]
  },
  {
   "cell_type": "code",
   "execution_count": 3,
   "metadata": {},
   "outputs": [],
   "source": [
    "def read_testing_images(directory):\n",
    "    \"\"\"\n",
    "    A method that reads the test image files in a given directory and returns the list of all images as numpy arrays\n",
    "    \"\"\"\n",
    "    files = os.listdir(directory)\n",
    "\n",
    "    images=[]\n",
    "    m=0\n",
    "    for fil in files:\n",
    "        image_path = os.path.join(directory, fil)\n",
    "        img = cv2.imread(image_path)\n",
    "        # img = np.expand_dims(cv2.resize(img, dsize=(COLS, ROWS), interpolation=cv2.INTER_CUBIC), axis=2)\n",
    "        img = img.astype('float32')\n",
    "        images.append(img)\n",
    "        m+=1\n",
    "    print(\"Number of testing images read = {}\".format(m))\n",
    "\n",
    "    return images"
   ]
  },
  {
   "cell_type": "code",
   "execution_count": 50,
   "metadata": {},
   "outputs": [],
   "source": [
    "def custom_model(layer1_size, layer2_size, layer3_size, dropout=0.4):\n",
    "    \n",
    "    # initialize the model from the keras library   \n",
    "    custom_model = tf.keras.applications.VGG16(include_top=False,\n",
    "                                         weights=\"imagenet\",\n",
    "                                         input_shape=(480, 640, 3),\n",
    "                                         classes=5)\n",
    "    \n",
    "#     # Top Model Block\n",
    "#     x = custom_model.output\n",
    "#     x = tf.keras.layers.GlobalAveragePooling2D()(x)\n",
    "#     predictions = tf.keras.layers.Dense(5, activation='softmax')(x)\n",
    "\n",
    "#     # add your top layer block to your base model\n",
    "#     model = tf.keras.Model(custom_model.input, predictions)\n",
    "    \n",
    "    \n",
    "    model = tf.keras.Sequential()\n",
    "    \n",
    "    # Freeze custom model layers\n",
    "    custom_model.trainable = False    \n",
    "    \n",
    "    model.add(custom_model)\n",
    "    model.add(tf.keras.layers.GlobalAveragePooling2D())\n",
    "    \n",
    "#     model.add(tf.keras.layers.Flatten())\n",
    "#     model.add(tf.keras.layers.Dense(layer1_size, activation='relu'))\n",
    "#     model.add(tf.keras.layers.Dropout(dropout))\n",
    "#     model.add(tf.keras.layers.Dense(layer2_size, activation='relu'))\n",
    "#     model.add(tf.keras.layers.Dropout(dropout))\n",
    "#     model.add(tf.keras.layers.Dense(layer3_size, activation='relu'))\n",
    "#     model.add(tf.keras.layers.Dropout(dropout))\n",
    "    # Add 'softmax' instead of earlier 'prediction' layer.\n",
    "    model.add(tf.keras.layers.Dense(5, activation='softmax'))\n",
    "\n",
    "    return model"
   ]
  },
  {
   "cell_type": "code",
   "execution_count": 35,
   "metadata": {},
   "outputs": [],
   "source": [
    "def generate_plots(model_history, epochs):\n",
    "    \"\"\"\n",
    "    A method that takes the model history of a trained model and plots its:\n",
    "    1. Training accuracy\n",
    "    2. Training loss\n",
    "    3. Validation accuracy\n",
    "    4. Validation loss\n",
    "    \"\"\"\n",
    "    acc = model_history.history['acc']\n",
    "    val_acc = model_history.history['val_acc']\n",
    "    loss = model_history.history['loss']\n",
    "    val_loss = model_history.history['val_loss']\n",
    "\n",
    "\n",
    "    plt.figure(1)\n",
    "    plt.suptitle('Accuracy learning curve', fontsize=20)\n",
    "    plt.xlabel('epochs', fontsize=14)\n",
    "    plt.ylabel('accuracy', fontsize=14)\n",
    "    plt.plot(acc, label='training accuracy')\n",
    "    plt.plot(val_acc, label='validation accuracy')\n",
    "    plt.xticks(np.arange(0, epochs + epochs/10, epochs/10))\n",
    "    plt.legend(loc=\"lower right\")\n",
    "    plt.savefig(\"accuracy.png\", dpi=300)\n",
    "\n",
    "    plt.figure(2)\n",
    "    plt.suptitle('Loss learning curve', fontsize=20)\n",
    "    plt.xlabel('epochs', fontsize=14)\n",
    "    plt.ylabel('loss', fontsize=14)\n",
    "    plt.plot(loss, label='training loss')\n",
    "    plt.plot(val_loss, label='validation loss')\n",
    "    plt.xticks(np.arange(0, epochs + epochs/10, epochs/10))\n",
    "    plt.legend(loc=\"upper right\")\n",
    "    plt.savefig(\"loss.png\", dpi=300)"
   ]
  },
  {
   "cell_type": "code",
   "execution_count": 25,
   "metadata": {},
   "outputs": [],
   "source": [
    "def best_results(model_history):\n",
    "    \"\"\"\n",
    "    A method that prints the best validation accuracy and loss to a best_results.txt file.\n",
    "    \"\"\"\n",
    "    acc = model_history.history['acc']\n",
    "    val_acc = model_history.history['val_acc']\n",
    "    loss = model_history.history['loss']\n",
    "    val_loss = model_history.history['val_loss']\n",
    "\n",
    "    \n",
    "    f = open(\"best_results.txt\", \"w+\")\n",
    "    f.write(\"Training accuracy = {}\\n\".format(acc))\n",
    "    f.write(\"----------------------\\n\")\n",
    "    f.write(\"Training loss = {}\\n\".format(loss))\n",
    "    f.write(\"----------------------\\n\")\n",
    "    f.write(\"Validation accuracy = {}\\n\".format(val_acc))\n",
    "    f.write(\"----------------------\\n\")\n",
    "    f.write(\"Validation loss = {}\\n\".format(val_loss))\n",
    "    f.write(\"----------------------\\n\")\n",
    "    f.write(\"----------------------\\n\\n\")\n",
    "    f.close()"
   ]
  },
  {
   "cell_type": "code",
   "execution_count": 26,
   "metadata": {},
   "outputs": [
    {
     "name": "stdout",
     "output_type": "stream",
     "text": [
      "Number of training images read = 896\n",
      "Number of testing images read = 129\n",
      "Shape of training set: (716, 480, 640, 3)\n",
      "Shape of validation set: (180, 480, 640, 3)\n",
      "Shape of testing set: (129, 480, 640, 3)\n"
     ]
    }
   ],
   "source": [
    "\n",
    "# Initialize the directories\n",
    "root_dir = os.path.abspath('./')\n",
    "train_dir = os.path.join(root_dir, 'Training')\n",
    "test_dir = os.path.join(root_dir, 'Project_C2_Testing')\n",
    "\n",
    "\n",
    "train_files = pd.read_csv(os.path.join(root_dir, 'train_files.csv'))\n",
    "\n",
    "# set constants\n",
    "COLS, ROWS, CHANNEL = 480, 640, 3\n",
    "\n",
    "# training constants\n",
    "EPOCHS = 30\n",
    "BATCH_SIZE = 16\n",
    "\n",
    "# read the training and testing images\n",
    "training_images = read_training_images(train_files, train_dir)\n",
    "testing_images = read_testing_images(test_dir)\n",
    "\n",
    "\n",
    "X_train = np.stack(training_images)\n",
    "y_train = train_files.annotation.values\n",
    "X_test = np.stack(testing_images)\n",
    "\n",
    "\n",
    "# Split the training data in training and validation sets\n",
    "X_train, X_val, y_train, y_val = train_test_split(X_train, y_train, test_size=0.2, random_state=None, shuffle=True, stratify=y_train)\n",
    "\n",
    "print(\"Shape of training set: {}\".format(X_train.shape))\n",
    "print(\"Shape of validation set: {}\".format(X_val.shape))\n",
    "print(\"Shape of testing set: {}\".format(X_test.shape))    "
   ]
  },
  {
   "cell_type": "code",
   "execution_count": 51,
   "metadata": {},
   "outputs": [
    {
     "name": "stdout",
     "output_type": "stream",
     "text": [
      "-------------------\n",
      "Compiling model\n",
      "-------------------\n",
      "Model: \"sequential_11\"\n",
      "_________________________________________________________________\n",
      "Layer (type)                 Output Shape              Param #   \n",
      "=================================================================\n",
      "vgg16 (Model)                (None, 15, 20, 512)       14714688  \n",
      "_________________________________________________________________\n",
      "global_average_pooling2d_4 ( (None, 512)               0         \n",
      "_________________________________________________________________\n",
      "dense_27 (Dense)             (None, 5)                 2565      \n",
      "=================================================================\n",
      "Total params: 14,717,253\n",
      "Trainable params: 2,565\n",
      "Non-trainable params: 14,714,688\n",
      "_________________________________________________________________\n"
     ]
    }
   ],
   "source": [
    "print(\"-------------------\")\n",
    "print(\"Compiling model\")\n",
    "print(\"-------------------\")\n",
    "\n",
    "# initialize the model\n",
    "model = custom_model(512, 512, 256, 0.4)\n",
    "\n",
    "model.summary()\n",
    "\n",
    "model.compile(loss=tf.keras.losses.sparse_categorical_crossentropy,\n",
    "                optimizer=tf.keras.optimizers.Adam(),\n",
    "                metrics=['accuracy'])"
   ]
  },
  {
   "cell_type": "code",
   "execution_count": 52,
   "metadata": {},
   "outputs": [
    {
     "name": "stdout",
     "output_type": "stream",
     "text": [
      "-------------------\n",
      "Training model\n",
      "-------------------\n",
      "Train on 716 samples, validate on 180 samples\n",
      "Epoch 1/30\n",
      "716/716 [==============================] - 15s 21ms/sample - loss: 1.3837 - acc: 0.4763 - val_loss: 1.1242 - val_acc: 0.5778\n",
      "Epoch 2/30\n",
      "716/716 [==============================] - 11s 16ms/sample - loss: 1.0006 - acc: 0.6006 - val_loss: 0.9527 - val_acc: 0.6611\n",
      "Epoch 3/30\n",
      "716/716 [==============================] - 12s 16ms/sample - loss: 0.8627 - acc: 0.6592 - val_loss: 0.8679 - val_acc: 0.6889\n",
      "Epoch 4/30\n",
      "716/716 [==============================] - 12s 16ms/sample - loss: 0.7883 - acc: 0.7053 - val_loss: 0.8162 - val_acc: 0.7000\n",
      "Epoch 5/30\n",
      "716/716 [==============================] - 12s 16ms/sample - loss: 0.7100 - acc: 0.7263 - val_loss: 0.8266 - val_acc: 0.7056\n",
      "Epoch 6/30\n",
      "716/716 [==============================] - 12s 16ms/sample - loss: 0.6753 - acc: 0.7528 - val_loss: 0.7706 - val_acc: 0.6944\n",
      "Epoch 7/30\n",
      "716/716 [==============================] - 12s 16ms/sample - loss: 0.6346 - acc: 0.7626 - val_loss: 0.7620 - val_acc: 0.7056\n",
      "Epoch 8/30\n",
      "716/716 [==============================] - 12s 16ms/sample - loss: 0.6044 - acc: 0.7751 - val_loss: 0.7258 - val_acc: 0.7667\n",
      "Epoch 9/30\n",
      "716/716 [==============================] - 12s 16ms/sample - loss: 0.5892 - acc: 0.7919 - val_loss: 0.7075 - val_acc: 0.7278\n",
      "Epoch 10/30\n",
      "716/716 [==============================] - 12s 16ms/sample - loss: 0.5624 - acc: 0.7933 - val_loss: 0.6926 - val_acc: 0.7722\n",
      "Epoch 11/30\n",
      "716/716 [==============================] - 12s 16ms/sample - loss: 0.5420 - acc: 0.8003 - val_loss: 0.6807 - val_acc: 0.7500\n",
      "Epoch 12/30\n",
      "716/716 [==============================] - 12s 16ms/sample - loss: 0.5185 - acc: 0.8198 - val_loss: 0.6745 - val_acc: 0.7333\n",
      "Epoch 13/30\n",
      "716/716 [==============================] - 12s 16ms/sample - loss: 0.5036 - acc: 0.8212 - val_loss: 0.6564 - val_acc: 0.7611\n",
      "Epoch 14/30\n",
      "716/716 [==============================] - 12s 16ms/sample - loss: 0.4873 - acc: 0.8128 - val_loss: 0.7370 - val_acc: 0.7056\n",
      "Epoch 15/30\n",
      "716/716 [==============================] - 12s 16ms/sample - loss: 0.4827 - acc: 0.8366 - val_loss: 0.6547 - val_acc: 0.7556\n",
      "Epoch 16/30\n",
      "716/716 [==============================] - 12s 16ms/sample - loss: 0.4619 - acc: 0.8352 - val_loss: 0.6501 - val_acc: 0.7389\n",
      "Epoch 17/30\n",
      "716/716 [==============================] - 12s 16ms/sample - loss: 0.4444 - acc: 0.8547 - val_loss: 0.6381 - val_acc: 0.7667\n",
      "Epoch 18/30\n",
      "716/716 [==============================] - 12s 16ms/sample - loss: 0.4400 - acc: 0.8394 - val_loss: 0.6396 - val_acc: 0.7611\n",
      "Epoch 19/30\n",
      "716/716 [==============================] - 12s 16ms/sample - loss: 0.4326 - acc: 0.8561 - val_loss: 0.6544 - val_acc: 0.7500\n",
      "Epoch 20/30\n",
      "716/716 [==============================] - 12s 16ms/sample - loss: 0.4178 - acc: 0.8617 - val_loss: 0.6533 - val_acc: 0.7500\n",
      "Epoch 21/30\n",
      "716/716 [==============================] - 12s 16ms/sample - loss: 0.4145 - acc: 0.8575 - val_loss: 0.6299 - val_acc: 0.7611\n",
      "Epoch 22/30\n",
      "716/716 [==============================] - 12s 16ms/sample - loss: 0.3991 - acc: 0.8729 - val_loss: 0.6237 - val_acc: 0.7556\n",
      "Epoch 23/30\n",
      "716/716 [==============================] - 12s 16ms/sample - loss: 0.3911 - acc: 0.8631 - val_loss: 0.6224 - val_acc: 0.7500\n",
      "Epoch 24/30\n",
      "716/716 [==============================] - 12s 16ms/sample - loss: 0.3806 - acc: 0.8715 - val_loss: 0.6088 - val_acc: 0.7722\n",
      "Epoch 25/30\n",
      "716/716 [==============================] - 12s 16ms/sample - loss: 0.3785 - acc: 0.8729 - val_loss: 0.6275 - val_acc: 0.7667\n",
      "Epoch 26/30\n",
      "716/716 [==============================] - 12s 16ms/sample - loss: 0.3690 - acc: 0.8855 - val_loss: 0.6146 - val_acc: 0.7611\n",
      "Epoch 27/30\n",
      "716/716 [==============================] - 12s 16ms/sample - loss: 0.3686 - acc: 0.8785 - val_loss: 0.6113 - val_acc: 0.7556\n",
      "Epoch 28/30\n",
      "716/716 [==============================] - 12s 16ms/sample - loss: 0.3496 - acc: 0.8883 - val_loss: 0.5996 - val_acc: 0.7556\n",
      "Epoch 29/30\n",
      "716/716 [==============================] - 12s 16ms/sample - loss: 0.3458 - acc: 0.8939 - val_loss: 0.6065 - val_acc: 0.7722\n",
      "Epoch 30/30\n",
      "716/716 [==============================] - 12s 17ms/sample - loss: 0.3422 - acc: 0.8841 - val_loss: 0.6008 - val_acc: 0.7500\n"
     ]
    }
   ],
   "source": [
    "print(\"-------------------\")\n",
    "print(\"Training model\")\n",
    "print(\"-------------------\")\n",
    "\n",
    "with tf.device('/device:GPU:0'):\n",
    "    history = model.fit(X_train, y_train, batch_size=BATCH_SIZE, epochs=EPOCHS, validation_data=(X_val, y_val))"
   ]
  },
  {
   "cell_type": "code",
   "execution_count": 53,
   "metadata": {},
   "outputs": [
    {
     "data": {
      "image/png": "[encoded data removed]",
      "text/plain": [
       "<Figure size 432x288 with 1 Axes>"
      ]
     },
     "metadata": {
      "needs_background": "light"
     },
     "output_type": "display_data"
    },
    {
     "data": {
      "image/png": "[encoded data removed]",
      "text/plain": [
       "<Figure size 432x288 with 1 Axes>"
      ]
     },
     "metadata": {
      "needs_background": "light"
     },
     "output_type": "display_data"
    }
   ],
   "source": [
    "predictions = model.predict(X_test, batch_size=16)\n",
    "\n",
    "generate_plots(history, EPOCHS)\n",
    "\n",
    "best_results(history)"
   ]
  },
  {
   "cell_type": "code",
   "execution_count": 54,
   "metadata": {},
   "outputs": [],
   "source": [
    "labels = [np.argmax(prediction) for prediction in predictions]\n",
    "\n",
    "y_pred = tf.keras.utils.to_categorical(labels)\n",
    "np.savetxt(\"./predictions.csv\", y_pred, fmt=\"%d\", delimiter=\",\")"
   ]
  },
  {
   "cell_type": "code",
   "execution_count": null,
   "metadata": {},
   "outputs": [],
   "source": []
  },
  {
   "cell_type": "code",
   "execution_count": null,
   "metadata": {},
   "outputs": [],
   "source": []
  }
 ],
 "metadata": {
  "kernelspec": {
   "display_name": "Python 3",
   "language": "python",
   "name": "python3"
  },
  "language_info": {
   "codemirror_mode": {
    "name": "ipython",
    "version": 3
   },
   "file_extension": ".py",
   "mimetype": "text/x-python",
   "name": "python",
   "nbconvert_exporter": "python",
   "pygments_lexer": "ipython3",
   "version": "3.7.1"
  }
 },
 "nbformat": 4,
 "nbformat_minor": 2
}
