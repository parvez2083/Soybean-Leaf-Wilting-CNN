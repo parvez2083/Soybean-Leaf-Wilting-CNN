{
 "cells": [
  {
   "cell_type": "code",
   "execution_count": 1,
   "metadata": {},
   "outputs": [
    {
     "name": "stderr",
     "output_type": "stream",
     "text": [
      "C:\\tools\\Anaconda3\\envs\\tf\\lib\\site-packages\\h5py\\__init__.py:72: UserWarning: h5py is running against HDF5 1.10.2 when it was built against 1.10.3, this may cause problems\n",
      "  '{0}.{1}.{2}'.format(*version.hdf5_built_version_tuple)\n",
      "Using TensorFlow backend.\n"
     ]
    }
   ],
   "source": [
    "import os\n",
    "import cv2\n",
    "import matplotlib.pyplot as plt\n",
    "import pandas as pd\n",
    "import numpy as np\n",
    "import keras\n",
    "import tensorflow as tf\n",
    "# from keras_applications.resnet import ResNet101\n",
    "from sklearn.model_selection import train_test_split"
   ]
  },
  {
   "cell_type": "code",
   "execution_count": 2,
   "metadata": {},
   "outputs": [],
   "source": [
    "root_dir = os.path.abspath('./')\n",
    "# root_dir = os.path.abspath('./drive/My Drive/C1/Project_C1/')\n",
    "# Set the directory of the training data\n",
    "train_dir = os.path.join(root_dir, 'Training')"
   ]
  },
  {
   "cell_type": "code",
   "execution_count": 3,
   "metadata": {},
   "outputs": [],
   "source": [
    "train_files = pd.read_csv(os.path.join(root_dir, 'train_files.csv'))"
   ]
  },
  {
   "cell_type": "code",
   "execution_count": 4,
   "metadata": {},
   "outputs": [],
   "source": [
    "# set constants\n",
    "COLS, ROWS, CHANNEL = 480, 640, 3"
   ]
  },
  {
   "cell_type": "code",
   "execution_count": 5,
   "metadata": {},
   "outputs": [],
   "source": [
    "temp = []\n",
    "n=0\n",
    "for img_name in train_files.file_name:\n",
    "    image_path = os.path.join(train_dir, img_name)\n",
    "    img = cv2.imread(image_path)\n",
    "    # img = np.expand_dims(cv2.resize(img, dsize=(COLS, ROWS), interpolation=cv2.INTER_CUBIC), axis=2)\n",
    "    # .flatten()\n",
    "    # print(n)\n",
    "    # print(type(img))\n",
    "    # print(img.shape)\n",
    "    # cv2.imshow('image', img)\n",
    "    # cv2.waitKey(0)\n",
    "    # cv2.destroyAllWindows()\n",
    "    img = img.astype('float32')\n",
    "    temp.append(img)\n",
    "    n+=1"
   ]
  },
  {
   "cell_type": "code",
   "execution_count": 6,
   "metadata": {},
   "outputs": [],
   "source": [
    "X_train = np.stack(temp)"
   ]
  },
  {
   "cell_type": "code",
   "execution_count": 7,
   "metadata": {},
   "outputs": [],
   "source": [
    "y_train = train_files.annotation.values"
   ]
  },
  {
   "cell_type": "code",
   "execution_count": 8,
   "metadata": {
    "lines_to_next_cell": 2
   },
   "outputs": [],
   "source": [
    "X_train, X_val, y_train, y_val = train_test_split(X_train, y_train, test_size=0.2, random_state=1, shuffle=True, stratify=y_train)"
   ]
  },
  {
   "cell_type": "code",
   "execution_count": 9,
   "metadata": {},
   "outputs": [],
   "source": [
    "# models = [tf.keras.applications.Xception(include_top=True,\n",
    "#                                          weights=None,\n",
    "#                                          input_tensor=None,\n",
    "#                                          input_shape=(COLS, ROWS, CHANNEL),\n",
    "#                                          pooling=None,\n",
    "#                                          classes=5),\n",
    "          \n",
    "#          tf.keras.applications.InceptionV3(include_top=True,\n",
    "#                                             weights=None,\n",
    "#                                             input_tensor=None,\n",
    "#                                             input_shape=(COLS, ROWS, CHANNEL),\n",
    "#                                             pooling=None,\n",
    "#                                             classes=5) ]\n",
    "\n",
    "\n",
    "def custom_model(layer1_size, layer2_size, layer3_size, dropout=0.4):\n",
    "    \n",
    "    # initialize the model from the keras library\n",
    "#     custom_model = tf.keras.applications.VGG16(include_top=False,\n",
    "#                                               weights='imagenet',\n",
    "#                                               input_tensor=None,\n",
    "#                                               input_shape=(COLS, ROWS, CHANNEL),\n",
    "#                                               pooling=None,\n",
    "#                                               classes=5)\n",
    "    \n",
    "    custom_model = tf.keras.applications.VGG19(include_top=False,\n",
    "                                         weights=\"imagenet\",\n",
    "                                         input_shape=(480, 640, 3),\n",
    "                                         classes=5)\n",
    "    \n",
    "#     # Top Model Block\n",
    "#     x = custom_model.output\n",
    "#     x = tf.keras.layers.GlobalAveragePooling2D()(x)\n",
    "#     predictions = tf.keras.layers.Dense(5, activation='softmax')(x)\n",
    "\n",
    "#     # add your top layer block to your base model\n",
    "#     model = tf.keras.Model(custom_model.input, predictions)\n",
    "    \n",
    "    \n",
    "    model = tf.keras.Sequential()\n",
    "\n",
    "#     Freeze the layers\n",
    "    for layer in custom_model.layers:\n",
    "        layer.trainable = False    \n",
    "        \n",
    "    \n",
    "    model.add(custom_model)\n",
    "    \n",
    "    model.add(tf.keras.layers.Flatten())\n",
    "    model.add(tf.keras.layers.Dense(layer1_size, activation='relu'))\n",
    "    model.add(tf.keras.layers.Dropout(dropout))\n",
    "    model.add(tf.keras.layers.Dense(layer2_size, activation='relu'))\n",
    "    model.add(tf.keras.layers.Dropout(dropout))\n",
    "    model.add(tf.keras.layers.Dense(layer3_size, activation='relu'))\n",
    "    model.add(tf.keras.layers.Dropout(dropout))\n",
    "    model.add(tf.keras.layers.Dense(layer3_size, activation='relu'))\n",
    "    # Add 'softmax' instead of earlier 'prediction' layer.\n",
    "    model.add(tf.keras.layers.Dense(5, activation='softmax'))\n",
    "\n",
    "    return model"
   ]
  },
  {
   "cell_type": "code",
   "execution_count": 10,
   "metadata": {},
   "outputs": [],
   "source": [
    "# Hyperparams\n",
    "\n",
    "layer1 = [512]\n",
    "layer2 = [512]\n",
    "layer3 = [256]\n",
    "\n",
    "dropout = [0.3, 0.4, 0.5]\n",
    "\n",
    "EPOCHS = 30\n",
    "BATCH_SIZE = 16\n",
    "\n",
    "# plot directory for accuracy and loss\n",
    "validation = \"./transfer_learning/results{}_{}_{}_{}.txt.\".format(layer1, layer2, layer3, dropout)\n",
    "plot_acc = \"./transfer_learning/acc/\"\n",
    "plot_loss = \"./transfer_learning/loss/\"\n",
    "\n",
    "os.makedirs(plot_acc, exist_ok=True)\n",
    "os.makedirs(plot_loss, exist_ok=True)"
   ]
  },
  {
   "cell_type": "code",
   "execution_count": 11,
   "metadata": {},
   "outputs": [
    {
     "name": "stdout",
     "output_type": "stream",
     "text": [
      "-------------------\n",
      "Compiling model with 512, 512, 256, 0.4\n",
      "-------------------\n",
      "WARNING:tensorflow:From C:\\tools\\Anaconda3\\envs\\tf\\lib\\site-packages\\tensorflow\\python\\ops\\init_ops.py:1251: calling VarianceScaling.__init__ (from tensorflow.python.ops.init_ops) with dtype is deprecated and will be removed in a future version.\n",
      "Instructions for updating:\n",
      "Call initializer instance with the dtype argument instead of passing it to the constructor\n",
      "Model: \"sequential\"\n",
      "_________________________________________________________________\n",
      "Layer (type)                 Output Shape              Param #   \n",
      "=================================================================\n",
      "vgg19 (Model)                (None, 15, 20, 512)       20024384  \n",
      "_________________________________________________________________\n",
      "flatten (Flatten)            (None, 153600)            0         \n",
      "_________________________________________________________________\n",
      "dense (Dense)                (None, 512)               78643712  \n",
      "_________________________________________________________________\n",
      "dropout (Dropout)            (None, 512)               0         \n",
      "_________________________________________________________________\n",
      "dense_1 (Dense)              (None, 512)               262656    \n",
      "_________________________________________________________________\n",
      "dropout_1 (Dropout)          (None, 512)               0         \n",
      "_________________________________________________________________\n",
      "dense_2 (Dense)              (None, 256)               131328    \n",
      "_________________________________________________________________\n",
      "dropout_2 (Dropout)          (None, 256)               0         \n",
      "_________________________________________________________________\n",
      "dense_3 (Dense)              (None, 256)               65792     \n",
      "_________________________________________________________________\n",
      "dense_4 (Dense)              (None, 5)                 1285      \n",
      "=================================================================\n",
      "Total params: 99,129,157\n",
      "Trainable params: 79,104,773\n",
      "Non-trainable params: 20,024,384\n",
      "_________________________________________________________________\n",
      "-------------------\n",
      "Training model with 512, 512, 256, 0.4\n",
      "-------------------\n",
      "Train on 716 samples, validate on 180 samples\n",
      "Epoch 1/30\n",
      "716/716 [==============================] - 20s 28ms/sample - loss: 34.3914 - acc: 0.3603 - val_loss: 2.4561 - val_acc: 0.5944\n",
      "Epoch 2/30\n",
      "716/716 [==============================] - 13s 19ms/sample - loss: 7.1746 - acc: 0.5489 - val_loss: 2.0797 - val_acc: 0.6500\n",
      "Epoch 3/30\n",
      "716/716 [==============================] - 14s 19ms/sample - loss: 4.3588 - acc: 0.6145 - val_loss: 1.2818 - val_acc: 0.7167\n",
      "Epoch 4/30\n",
      "716/716 [==============================] - 13s 19ms/sample - loss: 3.7971 - acc: 0.6089 - val_loss: 1.4251 - val_acc: 0.6667\n",
      "Epoch 5/30\n",
      "716/716 [==============================] - 13s 19ms/sample - loss: 3.1474 - acc: 0.6229 - val_loss: 0.6564 - val_acc: 0.7389\n",
      "Epoch 6/30\n",
      "716/716 [==============================] - 13s 19ms/sample - loss: 2.2207 - acc: 0.6397 - val_loss: 1.0009 - val_acc: 0.7056\n",
      "Epoch 7/30\n",
      "716/716 [==============================] - 13s 19ms/sample - loss: 2.2221 - acc: 0.6480 - val_loss: 0.7146 - val_acc: 0.7222\n",
      "Epoch 8/30\n",
      "716/716 [==============================] - 14s 19ms/sample - loss: 1.6031 - acc: 0.6844 - val_loss: 0.6724 - val_acc: 0.7833\n",
      "Epoch 9/30\n",
      "716/716 [==============================] - 14s 19ms/sample - loss: 1.3670 - acc: 0.7304 - val_loss: 0.6653 - val_acc: 0.8167\n",
      "Epoch 10/30\n",
      "716/716 [==============================] - 14s 20ms/sample - loss: 1.1928 - acc: 0.7137 - val_loss: 0.7524 - val_acc: 0.7611\n",
      "Epoch 11/30\n",
      "716/716 [==============================] - 14s 20ms/sample - loss: 1.1972 - acc: 0.7430 - val_loss: 0.8874 - val_acc: 0.7167\n",
      "Epoch 12/30\n",
      "716/716 [==============================] - 14s 19ms/sample - loss: 0.9237 - acc: 0.7737 - val_loss: 0.7743 - val_acc: 0.7333\n",
      "Epoch 13/30\n",
      "528/716 [=====================>........] - ETA: 2s - loss: 1.0322 - acc: 0.7519"
     ]
    },
    {
     "ename": "KeyboardInterrupt",
     "evalue": "",
     "output_type": "error",
     "traceback": [
      "\u001b[1;31m---------------------------------------------------------------------------\u001b[0m",
      "\u001b[1;31mKeyboardInterrupt\u001b[0m                         Traceback (most recent call last)",
      "\u001b[1;32m<ipython-input-11-4f625f21f87a>\u001b[0m in \u001b[0;36m<module>\u001b[1;34m\u001b[0m\n\u001b[0;32m     27\u001b[0m                 \u001b[1;32mwith\u001b[0m \u001b[0mtf\u001b[0m\u001b[1;33m.\u001b[0m\u001b[0mdevice\u001b[0m\u001b[1;33m(\u001b[0m\u001b[1;34m'/device:GPU:0'\u001b[0m\u001b[1;33m)\u001b[0m\u001b[1;33m:\u001b[0m\u001b[1;33m\u001b[0m\u001b[1;33m\u001b[0m\u001b[0m\n\u001b[0;32m     28\u001b[0m \u001b[1;33m\u001b[0m\u001b[0m\n\u001b[1;32m---> 29\u001b[1;33m                     \u001b[0mhistory\u001b[0m \u001b[1;33m=\u001b[0m \u001b[0mmodel\u001b[0m\u001b[1;33m.\u001b[0m\u001b[0mfit\u001b[0m\u001b[1;33m(\u001b[0m\u001b[0mX_train\u001b[0m\u001b[1;33m,\u001b[0m \u001b[0my_train\u001b[0m\u001b[1;33m,\u001b[0m \u001b[0mbatch_size\u001b[0m\u001b[1;33m=\u001b[0m\u001b[0mBATCH_SIZE\u001b[0m\u001b[1;33m,\u001b[0m \u001b[0mepochs\u001b[0m\u001b[1;33m=\u001b[0m\u001b[0mEPOCHS\u001b[0m\u001b[1;33m,\u001b[0m \u001b[0mvalidation_data\u001b[0m\u001b[1;33m=\u001b[0m\u001b[1;33m(\u001b[0m\u001b[0mX_val\u001b[0m\u001b[1;33m,\u001b[0m \u001b[0my_val\u001b[0m\u001b[1;33m)\u001b[0m\u001b[1;33m)\u001b[0m\u001b[1;33m\u001b[0m\u001b[1;33m\u001b[0m\u001b[0m\n\u001b[0m\u001b[0;32m     30\u001b[0m \u001b[1;33m\u001b[0m\u001b[0m\n\u001b[0;32m     31\u001b[0m                 \u001b[0macc\u001b[0m \u001b[1;33m=\u001b[0m \u001b[0mhistory\u001b[0m\u001b[1;33m.\u001b[0m\u001b[0mhistory\u001b[0m\u001b[1;33m[\u001b[0m\u001b[1;34m'acc'\u001b[0m\u001b[1;33m]\u001b[0m\u001b[1;33m\u001b[0m\u001b[1;33m\u001b[0m\u001b[0m\n",
      "\u001b[1;32mC:\\tools\\Anaconda3\\envs\\tf\\lib\\site-packages\\tensorflow\\python\\keras\\engine\\training.py\u001b[0m in \u001b[0;36mfit\u001b[1;34m(self, x, y, batch_size, epochs, verbose, callbacks, validation_split, validation_data, shuffle, class_weight, sample_weight, initial_epoch, steps_per_epoch, validation_steps, validation_freq, max_queue_size, workers, use_multiprocessing, **kwargs)\u001b[0m\n\u001b[0;32m    778\u001b[0m           \u001b[0mvalidation_steps\u001b[0m\u001b[1;33m=\u001b[0m\u001b[0mvalidation_steps\u001b[0m\u001b[1;33m,\u001b[0m\u001b[1;33m\u001b[0m\u001b[1;33m\u001b[0m\u001b[0m\n\u001b[0;32m    779\u001b[0m           \u001b[0mvalidation_freq\u001b[0m\u001b[1;33m=\u001b[0m\u001b[0mvalidation_freq\u001b[0m\u001b[1;33m,\u001b[0m\u001b[1;33m\u001b[0m\u001b[1;33m\u001b[0m\u001b[0m\n\u001b[1;32m--> 780\u001b[1;33m           steps_name='steps_per_epoch')\n\u001b[0m\u001b[0;32m    781\u001b[0m \u001b[1;33m\u001b[0m\u001b[0m\n\u001b[0;32m    782\u001b[0m   def evaluate(self,\n",
      "\u001b[1;32mC:\\tools\\Anaconda3\\envs\\tf\\lib\\site-packages\\tensorflow\\python\\keras\\engine\\training_arrays.py\u001b[0m in \u001b[0;36mmodel_iteration\u001b[1;34m(model, inputs, targets, sample_weights, batch_size, epochs, verbose, callbacks, val_inputs, val_targets, val_sample_weights, shuffle, initial_epoch, steps_per_epoch, validation_steps, validation_freq, mode, validation_in_fit, prepared_feed_values_from_dataset, steps_name, **kwargs)\u001b[0m\n\u001b[0;32m    361\u001b[0m \u001b[1;33m\u001b[0m\u001b[0m\n\u001b[0;32m    362\u001b[0m         \u001b[1;31m# Get outputs.\u001b[0m\u001b[1;33m\u001b[0m\u001b[1;33m\u001b[0m\u001b[1;33m\u001b[0m\u001b[0m\n\u001b[1;32m--> 363\u001b[1;33m         \u001b[0mbatch_outs\u001b[0m \u001b[1;33m=\u001b[0m \u001b[0mf\u001b[0m\u001b[1;33m(\u001b[0m\u001b[0mins_batch\u001b[0m\u001b[1;33m)\u001b[0m\u001b[1;33m\u001b[0m\u001b[1;33m\u001b[0m\u001b[0m\n\u001b[0m\u001b[0;32m    364\u001b[0m         \u001b[1;32mif\u001b[0m \u001b[1;32mnot\u001b[0m \u001b[0misinstance\u001b[0m\u001b[1;33m(\u001b[0m\u001b[0mbatch_outs\u001b[0m\u001b[1;33m,\u001b[0m \u001b[0mlist\u001b[0m\u001b[1;33m)\u001b[0m\u001b[1;33m:\u001b[0m\u001b[1;33m\u001b[0m\u001b[1;33m\u001b[0m\u001b[0m\n\u001b[0;32m    365\u001b[0m           \u001b[0mbatch_outs\u001b[0m \u001b[1;33m=\u001b[0m \u001b[1;33m[\u001b[0m\u001b[0mbatch_outs\u001b[0m\u001b[1;33m]\u001b[0m\u001b[1;33m\u001b[0m\u001b[1;33m\u001b[0m\u001b[0m\n",
      "\u001b[1;32mC:\\tools\\Anaconda3\\envs\\tf\\lib\\site-packages\\tensorflow\\python\\keras\\backend.py\u001b[0m in \u001b[0;36m__call__\u001b[1;34m(self, inputs)\u001b[0m\n\u001b[0;32m   3290\u001b[0m \u001b[1;33m\u001b[0m\u001b[0m\n\u001b[0;32m   3291\u001b[0m     fetched = self._callable_fn(*array_vals,\n\u001b[1;32m-> 3292\u001b[1;33m                                 run_metadata=self.run_metadata)\n\u001b[0m\u001b[0;32m   3293\u001b[0m     \u001b[0mself\u001b[0m\u001b[1;33m.\u001b[0m\u001b[0m_call_fetch_callbacks\u001b[0m\u001b[1;33m(\u001b[0m\u001b[0mfetched\u001b[0m\u001b[1;33m[\u001b[0m\u001b[1;33m-\u001b[0m\u001b[0mlen\u001b[0m\u001b[1;33m(\u001b[0m\u001b[0mself\u001b[0m\u001b[1;33m.\u001b[0m\u001b[0m_fetches\u001b[0m\u001b[1;33m)\u001b[0m\u001b[1;33m:\u001b[0m\u001b[1;33m]\u001b[0m\u001b[1;33m)\u001b[0m\u001b[1;33m\u001b[0m\u001b[1;33m\u001b[0m\u001b[0m\n\u001b[0;32m   3294\u001b[0m     output_structure = nest.pack_sequence_as(\n",
      "\u001b[1;32mC:\\tools\\Anaconda3\\envs\\tf\\lib\\site-packages\\tensorflow\\python\\client\\session.py\u001b[0m in \u001b[0;36m__call__\u001b[1;34m(self, *args, **kwargs)\u001b[0m\n\u001b[0;32m   1456\u001b[0m         ret = tf_session.TF_SessionRunCallable(self._session._session,\n\u001b[0;32m   1457\u001b[0m                                                \u001b[0mself\u001b[0m\u001b[1;33m.\u001b[0m\u001b[0m_handle\u001b[0m\u001b[1;33m,\u001b[0m \u001b[0margs\u001b[0m\u001b[1;33m,\u001b[0m\u001b[1;33m\u001b[0m\u001b[1;33m\u001b[0m\u001b[0m\n\u001b[1;32m-> 1458\u001b[1;33m                                                run_metadata_ptr)\n\u001b[0m\u001b[0;32m   1459\u001b[0m         \u001b[1;32mif\u001b[0m \u001b[0mrun_metadata\u001b[0m\u001b[1;33m:\u001b[0m\u001b[1;33m\u001b[0m\u001b[1;33m\u001b[0m\u001b[0m\n\u001b[0;32m   1460\u001b[0m           \u001b[0mproto_data\u001b[0m \u001b[1;33m=\u001b[0m \u001b[0mtf_session\u001b[0m\u001b[1;33m.\u001b[0m\u001b[0mTF_GetBuffer\u001b[0m\u001b[1;33m(\u001b[0m\u001b[0mrun_metadata_ptr\u001b[0m\u001b[1;33m)\u001b[0m\u001b[1;33m\u001b[0m\u001b[1;33m\u001b[0m\u001b[0m\n",
      "\u001b[1;31mKeyboardInterrupt\u001b[0m: "
     ]
    }
   ],
   "source": [
    "f = open(validation, \"w+\")\n",
    "\n",
    "n=0\n",
    "\n",
    "for l1 in layer1:\n",
    "    for l2 in layer2:\n",
    "        for l3 in layer3:\n",
    "            for dr in dropout:\n",
    "                print(\"-------------------\")\n",
    "                print(\"Compiling model with {}, {}, {}, {}\".format(l1, l2, l3, dr))\n",
    "                print(\"-------------------\")\n",
    "\n",
    "                # initialize the model\n",
    "                model = custom_model(l1, l2, l3, dr)\n",
    "\n",
    "                model.summary()\n",
    "                model.compile(loss=tf.keras.losses.sparse_categorical_crossentropy,\n",
    "                                       optimizer=tf.keras.optimizers.Adam(),\n",
    "                                       metrics=['accuracy'])\n",
    "\n",
    "\n",
    "                print(\"-------------------\")\n",
    "                print(\"Training model with {}, {}, {}, {}\".format(l1, l2, l3, dr))\n",
    "                print(\"-------------------\")\n",
    "\n",
    "\n",
    "                with tf.device('/device:GPU:0'):\n",
    "\n",
    "                    history = model.fit(X_train, y_train, batch_size=BATCH_SIZE, epochs=EPOCHS, validation_data=(X_val, y_val))\n",
    "\n",
    "                acc = history.history['acc']\n",
    "                val_acc = history.history['val_acc']\n",
    "                loss = history.history['loss']\n",
    "                val_loss = history.history['val_loss']\n",
    "\n",
    "\n",
    "                plt.figure(n)\n",
    "                plt.suptitle('Accuracy learning curve', fontsize=20)\n",
    "                plt.xlabel('epochs', fontsize=14)\n",
    "                plt.ylabel('accuracy', fontsize=14)\n",
    "                plt.plot(acc, label='training accuracy')\n",
    "                plt.plot(val_acc, label='validation accuracy')\n",
    "                plt.xticks(np.arange(0, EPOCHS, EPOCHS/10))\n",
    "                plt.legend(loc=\"lower right\")\n",
    "                plt.savefig(\"{}_{}_{}_{}_{}.png\".format(plot_acc, l1, l2, l3, dr), dpi=200)\n",
    "\n",
    "                plt.figure(n+500)\n",
    "                plt.suptitle('Loss', fontsize=20)\n",
    "                plt.xlabel('epochs', fontsize=14)\n",
    "                plt.ylabel('loss', fontsize=14)\n",
    "                plt.plot(loss, label='training loss')\n",
    "                plt.plot(val_loss, label='validation loss')\n",
    "                plt.xticks(np.arange(0, EPOCHS, EPOCHS/10))\n",
    "                plt.legend(loc=\"upper right\")\n",
    "                plt.savefig(\"{}_{}_{}_{}_{}.png\".format(plot_loss, l1, l2, l3, dr), dpi=200)\n",
    "\n",
    "\n",
    "                f.write(\"layer1: {}, layer2: {}, layer4: {}, Dropout: {}\\n\".format(l1, l2, l3, dr))\n",
    "                f.write(\"Validation accuracy = {}\\n\".format(val_acc))\n",
    "                f.write(\"----------------------\\n\")\n",
    "                f.write(\"Validation loss = {}\\n\".format(val_loss))\n",
    "                f.write(\"----------------------\\n\")\n",
    "                f.write(\"----------------------\\n\\n\")\n",
    "\n",
    "                n+=1\n",
    "\n",
    "            \n",
    "f.close()                    "
   ]
  },
  {
   "cell_type": "code",
   "execution_count": null,
   "metadata": {},
   "outputs": [],
   "source": [
    "labels = [np.argmax(prediction) for prediction in predictions]"
   ]
  },
  {
   "cell_type": "code",
   "execution_count": null,
   "metadata": {},
   "outputs": [],
   "source": [
    "y_pred = tf.keras.utils.to_categorical(labels)\n",
    "numpy.savetxt(\"./predictions_inceptionV3.csv\", y_pred, fmt=\"%d\", delimiter=\",\")"
   ]
  }
 ],
 "metadata": {
  "jupytext": {
   "cell_metadata_filter": "-all",
   "encoding": "# -*- coding: utf-8 -*-",
   "main_language": "python",
   "notebook_metadata_filter": "-all"
  },
  "kernelspec": {
   "display_name": "Python 3",
   "language": "python",
   "name": "python3"
  },
  "language_info": {
   "codemirror_mode": {
    "name": "ipython",
    "version": 3
   },
   "file_extension": ".py",
   "mimetype": "text/x-python",
   "name": "python",
   "nbconvert_exporter": "python",
   "pygments_lexer": "ipython3",
   "version": "3.7.1"
  }
 },
 "nbformat": 4,
 "nbformat_minor": 2
}
