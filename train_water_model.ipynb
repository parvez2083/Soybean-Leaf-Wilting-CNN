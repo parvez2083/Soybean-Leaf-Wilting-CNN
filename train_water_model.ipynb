{
 "cells": [
  {
   "cell_type": "code",
   "execution_count": 1,
   "metadata": {},
   "outputs": [
    {
     "name": "stderr",
     "output_type": "stream",
     "text": [
      "C:\\tools\\Anaconda3\\envs\\tf\\lib\\site-packages\\h5py\\__init__.py:72: UserWarning: h5py is running against HDF5 1.10.2 when it was built against 1.10.3, this may cause problems\n",
      "  '{0}.{1}.{2}'.format(*version.hdf5_built_version_tuple)\n"
     ]
    }
   ],
   "source": [
    "import os\n",
    "import cv2\n",
    "import matplotlib.pyplot as plt\n",
    "import pandas as pd\n",
    "import numpy as np\n",
    "import tensorflow as tf\n",
    "from progressbar import ProgressBar\n",
    "\n",
    "from sklearn.model_selection import train_test_split"
   ]
  },
  {
   "cell_type": "code",
   "execution_count": 2,
   "metadata": {},
   "outputs": [
    {
     "data": {
      "text/plain": [
       "'\\nTwo different methods for reading training and testing images since train_files.csv does not preserve order of files in the training images folder\\n'"
      ]
     },
     "execution_count": 2,
     "metadata": {},
     "output_type": "execute_result"
    }
   ],
   "source": [
    "\"\"\"\n",
    "Two different methods for reading training and testing images since train_files.csv does not preserve order of files in the training images folder\n",
    "\"\"\""
   ]
  },
  {
   "cell_type": "code",
   "execution_count": 3,
   "metadata": {},
   "outputs": [],
   "source": [
    "def read_training_images(train_files, train_dir, cols, rows):\n",
    "    \"\"\"\n",
    "    A method that reads the training image files in a given directory and returns the list of all images as numpy arrays\n",
    "    \"\"\"\n",
    "\n",
    "    images=[]\n",
    "    n=0\n",
    "    \n",
    "    pbar = ProgressBar().start()\n",
    "    total = len(train_files)\n",
    "    \n",
    "    print(\"-----------------------\")\n",
    "    print(\"Reading training images\")\n",
    "    print(\"-----------------------\")\n",
    "    \n",
    "    \n",
    "    for img_name in train_files.file_name:\n",
    "        image_path = os.path.join(train_dir, img_name)\n",
    "        img = cv2.imread(image_path)\n",
    "        # .flatten()\n",
    "        # print(n)\n",
    "        # print(type(img))\n",
    "        # print(img.shape)\n",
    "        # cv2.imshow('image', img)\n",
    "        # cv2.waitKey(0)\n",
    "        # cv2.destroyAllWindows()\n",
    "        img = img.astype('float32')\n",
    "        images.append(img)\n",
    "        n+=1\n",
    "        pbar.update((n/total)*100)  # current step/total steps * 100\n",
    "        \n",
    "    pbar.finish()\n",
    "        \n",
    "    print(\"Number of training images read = {}\".format(n))\n",
    "\n",
    "    return images"
   ]
  },
  {
   "cell_type": "code",
   "execution_count": 4,
   "metadata": {},
   "outputs": [],
   "source": [
    "def read_testing_images(directory):\n",
    "    \"\"\"\n",
    "    A method that reads the test image files in a given directory and returns the list of all images as numpy arrays\n",
    "    \"\"\"\n",
    "    files = os.listdir(directory)\n",
    "\n",
    "    images=[]\n",
    "    m=0\n",
    "    for fil in files:\n",
    "        image_path = os.path.join(directory, fil)\n",
    "        img = cv2.imread(image_path)\n",
    "        # img = np.expand_dims(cv2.resize(img, dsize=(COLS, ROWS), interpolation=cv2.INTER_CUBIC), axis=2)\n",
    "        img = img.astype('float32')\n",
    "        images.append(img)\n",
    "        m+=1\n",
    "    print(\"Number of testing images read = {}\".format(m))\n",
    "\n",
    "    return images"
   ]
  },
  {
   "cell_type": "code",
   "execution_count": 5,
   "metadata": {},
   "outputs": [],
   "source": [
    "def custom_vgg16(layer1_size=512, layer2_size=512, layer3_size=256, dropout=0.3, activation=\"relu\", cols=480, rows=640, channel=3):\n",
    "    \"\"\"\n",
    "    A model that generates a custom VGG16 model by adding dense layer to its bottom.\n",
    "    The top layers from VGG16 were not used. The extracted VGG16 layers were used for\n",
    "    feature representation and hence were not made trainable (frozen).\n",
    "    This function retuns a custom VGG16 model with all the layers added. \n",
    "    \"\"\"\n",
    "\n",
    "    \n",
    "    # initialize the VGG16 model from the keras library\n",
    "    vgg16_model = tf.keras.applications.VGG16(include_top=False,\n",
    "                                              weights='imagenet',\n",
    "                                              input_tensor=None,\n",
    "                                              input_shape=(cols, rows, channel),\n",
    "                                              pooling=None,\n",
    "                                              classes=5)\n",
    "\n",
    "    model = tf.keras.Sequential()\n",
    "\n",
    "    for layer in vgg16_model.layers[:-1]: \n",
    "        model.add(layer)\n",
    "\n",
    "\n",
    "    # Freeze the layers\n",
    "    for layer in model.layers:\n",
    "        layer.trainable = False\n",
    "\n",
    "    model.add(tf.keras.layers.Flatten())\n",
    "    model.add(tf.keras.layers.Dense(layer1_size, activation=activation))\n",
    "    model.add(tf.keras.layers.Dropout(dropout))\n",
    "    model.add(tf.keras.layers.Dense(layer2_size, activation=activation))\n",
    "    model.add(tf.keras.layers.Dropout(dropout))\n",
    "    model.add(tf.keras.layers.Dense(layer3_size, activation=activation))\n",
    "    model.add(tf.keras.layers.Dropout(dropout))\n",
    "    # model.add(tf.keras.layers.Dense(layer4_size, activation=activation))\n",
    "    # model.add(tf.keras.layers.Dropout(dropout))\n",
    "\n",
    "    # Add 'softmax' instead of earlier 'prediction' layer.\n",
    "    model.add(tf.keras.layers.Dense(5, activation='softmax'))\n",
    "\n",
    "    return model"
   ]
  },
  {
   "cell_type": "code",
   "execution_count": 44,
   "metadata": {},
   "outputs": [],
   "source": [
    "def generate_plots(model_history, epochs):\n",
    "    \"\"\"\n",
    "    A method that takes the model history of a trained model and plots its:\n",
    "    1. Training accuracy\n",
    "    2. Training loss\n",
    "    3. Validation accuracy\n",
    "    4. Validation loss\n",
    "    \"\"\"\n",
    "    acc = model_history.history['acc']\n",
    "    val_acc = model_history.history['val_acc']\n",
    "    loss = model_history.history['loss']\n",
    "    val_loss = model_history.history['val_loss']\n",
    "\n",
    "\n",
    "    plt.figure(1)\n",
    "    plt.suptitle('Accuracy learning curve', fontsize=20)\n",
    "    plt.xlabel('epochs', fontsize=14)\n",
    "    plt.ylabel('accuracy', fontsize=14)\n",
    "    plt.plot(acc, label='training accuracy')\n",
    "    plt.plot(val_acc, label='validation accuracy')\n",
    "    plt.xticks(np.arange(0, epochs + epochs/10, epochs/10))\n",
    "    plt.legend(loc=\"lower right\")\n",
    "    plt.savefig(\"accuracy.png\", dpi=250)\n",
    "\n",
    "    plt.figure(2)\n",
    "    plt.suptitle('Loss learning curve', fontsize=20)\n",
    "    plt.xlabel('epochs', fontsize=14)\n",
    "    plt.ylabel('loss', fontsize=14)\n",
    "    plt.plot(loss, label='training loss')\n",
    "    plt.plot(val_loss, label='validation loss')\n",
    "    plt.xticks(np.arange(0, epochs + epochs/10, epochs/10))\n",
    "    plt.legend(loc=\"upper right\")\n",
    "    plt.savefig(\"loss.png\", dpi=250)"
   ]
  },
  {
   "cell_type": "code",
   "execution_count": 7,
   "metadata": {},
   "outputs": [],
   "source": [
    "def best_results(model_history):\n",
    "    \"\"\"\n",
    "    A method that prints the best validation accuracy and loss to a best_results.txt file.\n",
    "    \"\"\"\n",
    "    acc = model_history.history['acc']\n",
    "    val_acc = model_history.history['val_acc']\n",
    "    loss = model_history.history['loss']\n",
    "    val_loss = model_history.history['val_loss']\n",
    "\n",
    "    \n",
    "    f = open(\"best_results.txt\", \"w+\")\n",
    "    f.write(\"Training accuracy = {}\\n\".format(acc))\n",
    "    f.write(\"----------------------\\n\")\n",
    "    f.write(\"Training loss = {}\\n\".format(loss))\n",
    "    f.write(\"----------------------\\n\")\n",
    "    f.write(\"Validation accuracy = {}\\n\".format(val_acc))\n",
    "    f.write(\"----------------------\\n\")\n",
    "    f.write(\"Validation loss = {}\\n\".format(val_loss))\n",
    "    f.write(\"----------------------\\n\")\n",
    "    f.write(\"----------------------\\n\\n\")\n",
    "    f.close()"
   ]
  },
  {
   "cell_type": "code",
   "execution_count": 36,
   "metadata": {},
   "outputs": [
    {
     "name": "stderr",
     "output_type": "stream",
     "text": [
      "  0% |                                                                        |\r"
     ]
    },
    {
     "name": "stdout",
     "output_type": "stream",
     "text": [
      "-----------------------\n",
      "Reading training images\n",
      "-----------------------\n"
     ]
    },
    {
     "name": "stderr",
     "output_type": "stream",
     "text": [
      "100% |########################################################################|\n"
     ]
    },
    {
     "name": "stdout",
     "output_type": "stream",
     "text": [
      "Number of training images read = 3932\n",
      "Shape of training set: (3145, 240, 320, 3)\n",
      "Shape of validation set: (787, 240, 320, 3)\n"
     ]
    }
   ],
   "source": [
    "\n",
    "# Initialize the directories\n",
    "root_dir = os.path.abspath('./')\n",
    "train_dir = os.path.join(root_dir, 'train_aug')\n",
    "# test_dir = os.path.join(root_dir, 'Project_C2_Testing')\n",
    "\n",
    "\n",
    "train_files = pd.read_csv(os.path.join(root_dir, 'train_aug.csv'))\n",
    "\n",
    "# set constants\n",
    "COLS, ROWS, CHANNEL = 240, 320, 3\n",
    "\n",
    "# training constants\n",
    "EPOCHS = 50\n",
    "BATCH_SIZE = 256\n",
    "\n",
    "# read the training and testing images\n",
    "training_images = read_training_images(train_files, train_dir, COLS, ROWS)\n",
    "X_train = np.stack(training_images)\n",
    "\n",
    "y_train = train_files.annotation.values\n",
    "# X_test = np.stack(testing_images)\n",
    "\n",
    "\n",
    "# Split the training data in training and validation sets\n",
    "X_train, X_val, y_train, y_val = train_test_split(X_train, y_train, test_size=0.2, random_state=None, shuffle=True, stratify=y_train)\n",
    "\n",
    "print(\"Shape of training set: {}\".format(X_train.shape))\n",
    "print(\"Shape of validation set: {}\".format(X_val.shape))\n",
    "# print(\"Shape of testing set: {}\".format(X_test.shape))    "
   ]
  },
  {
   "cell_type": "code",
   "execution_count": 46,
   "metadata": {},
   "outputs": [
    {
     "name": "stdout",
     "output_type": "stream",
     "text": [
      "-------------------\n",
      "Compiling model\n",
      "-------------------\n",
      "Model: \"sequential_13\"\n",
      "_________________________________________________________________\n",
      "Layer (type)                 Output Shape              Param #   \n",
      "=================================================================\n",
      "block1_conv1 (Conv2D)        (None, 240, 320, 64)      1792      \n",
      "_________________________________________________________________\n",
      "block1_conv2 (Conv2D)        (None, 240, 320, 64)      36928     \n",
      "_________________________________________________________________\n",
      "block1_pool (MaxPooling2D)   (None, 120, 160, 64)      0         \n",
      "_________________________________________________________________\n",
      "block2_conv1 (Conv2D)        (None, 120, 160, 128)     73856     \n",
      "_________________________________________________________________\n",
      "block2_conv2 (Conv2D)        (None, 120, 160, 128)     147584    \n",
      "_________________________________________________________________\n",
      "block2_pool (MaxPooling2D)   (None, 60, 80, 128)       0         \n",
      "_________________________________________________________________\n",
      "block3_conv1 (Conv2D)        (None, 60, 80, 256)       295168    \n",
      "_________________________________________________________________\n",
      "block3_conv2 (Conv2D)        (None, 60, 80, 256)       590080    \n",
      "_________________________________________________________________\n",
      "block3_conv3 (Conv2D)        (None, 60, 80, 256)       590080    \n",
      "_________________________________________________________________\n",
      "block3_pool (MaxPooling2D)   (None, 30, 40, 256)       0         \n",
      "_________________________________________________________________\n",
      "block4_conv1 (Conv2D)        (None, 30, 40, 512)       1180160   \n",
      "_________________________________________________________________\n",
      "block4_conv2 (Conv2D)        (None, 30, 40, 512)       2359808   \n",
      "_________________________________________________________________\n",
      "block4_conv3 (Conv2D)        (None, 30, 40, 512)       2359808   \n",
      "_________________________________________________________________\n",
      "block4_pool (MaxPooling2D)   (None, 15, 20, 512)       0         \n",
      "_________________________________________________________________\n",
      "block5_conv1 (Conv2D)        (None, 15, 20, 512)       2359808   \n",
      "_________________________________________________________________\n",
      "block5_conv2 (Conv2D)        (None, 15, 20, 512)       2359808   \n",
      "_________________________________________________________________\n",
      "block5_conv3 (Conv2D)        (None, 15, 20, 512)       2359808   \n",
      "_________________________________________________________________\n",
      "flatten_13 (Flatten)         (None, 153600)            0         \n",
      "_________________________________________________________________\n",
      "dense_52 (Dense)             (None, 512)               78643712  \n",
      "_________________________________________________________________\n",
      "dropout_39 (Dropout)         (None, 512)               0         \n",
      "_________________________________________________________________\n",
      "dense_53 (Dense)             (None, 512)               262656    \n",
      "_________________________________________________________________\n",
      "dropout_40 (Dropout)         (None, 512)               0         \n",
      "_________________________________________________________________\n",
      "dense_54 (Dense)             (None, 256)               131328    \n",
      "_________________________________________________________________\n",
      "dropout_41 (Dropout)         (None, 256)               0         \n",
      "_________________________________________________________________\n",
      "dense_55 (Dense)             (None, 5)                 1285      \n",
      "=================================================================\n",
      "Total params: 93,753,669\n",
      "Trainable params: 79,038,981\n",
      "Non-trainable params: 14,714,688\n",
      "_________________________________________________________________\n"
     ]
    }
   ],
   "source": [
    "print(\"-------------------\")\n",
    "print(\"Compiling model\")\n",
    "print(\"-------------------\")\n",
    "\n",
    "# initialize the model\n",
    "model = custom_vgg16(512, 512, 256, 0.3, \"relu\", COLS, ROWS, CHANNEL)\n",
    "\n",
    "model.summary()\n",
    "\n",
    "model.compile(loss=tf.keras.losses.sparse_categorical_crossentropy,\n",
    "                optimizer=tf.keras.optimizers.Adam(),\n",
    "                metrics=['accuracy'])"
   ]
  },
  {
   "cell_type": "code",
   "execution_count": 47,
   "metadata": {},
   "outputs": [
    {
     "name": "stdout",
     "output_type": "stream",
     "text": [
      "-------------------\n",
      "Training model\n",
      "-------------------\n",
      "Train on 3145 samples, validate on 787 samples\n",
      "Epoch 1/30\n",
      "3145/3145 [==============================] - 15s 5ms/sample - loss: 12.5830 - acc: 0.3631 - val_loss: 1.9978 - val_acc: 0.6213\n",
      "Epoch 2/30\n",
      "3145/3145 [==============================] - 14s 4ms/sample - loss: 2.7008 - acc: 0.5742 - val_loss: 0.8298 - val_acc: 0.7001\n",
      "Epoch 3/30\n",
      "3145/3145 [==============================] - 14s 4ms/sample - loss: 1.2437 - acc: 0.6251 - val_loss: 0.8336 - val_acc: 0.6963\n",
      "Epoch 4/30\n",
      "3145/3145 [==============================] - 13s 4ms/sample - loss: 0.8432 - acc: 0.7186 - val_loss: 0.6856 - val_acc: 0.7433\n",
      "Epoch 5/30\n",
      "3145/3145 [==============================] - 14s 4ms/sample - loss: 0.6986 - acc: 0.7682 - val_loss: 0.6757 - val_acc: 0.7662\n",
      "Epoch 6/30\n",
      "3145/3145 [==============================] - 14s 4ms/sample - loss: 0.5732 - acc: 0.8134 - val_loss: 0.6751 - val_acc: 0.8107\n",
      "Epoch 7/30\n",
      "3145/3145 [==============================] - 14s 4ms/sample - loss: 0.4505 - acc: 0.8521 - val_loss: 0.5847 - val_acc: 0.8094\n",
      "Epoch 8/30\n",
      "3145/3145 [==============================] - 14s 4ms/sample - loss: 0.3895 - acc: 0.8750 - val_loss: 0.5829 - val_acc: 0.8132\n",
      "Epoch 9/30\n",
      "3145/3145 [==============================] - 14s 4ms/sample - loss: 0.3303 - acc: 0.8925 - val_loss: 0.5738 - val_acc: 0.8183\n",
      "Epoch 10/30\n",
      "3145/3145 [==============================] - 14s 4ms/sample - loss: 0.2483 - acc: 0.9208 - val_loss: 0.5222 - val_acc: 0.8463\n",
      "Epoch 11/30\n",
      "3145/3145 [==============================] - 14s 4ms/sample - loss: 0.2379 - acc: 0.9243 - val_loss: 0.5577 - val_acc: 0.8386\n",
      "Epoch 12/30\n",
      "3145/3145 [==============================] - 14s 4ms/sample - loss: 0.2090 - acc: 0.9383 - val_loss: 0.6108 - val_acc: 0.8488\n",
      "Epoch 13/30\n",
      "3145/3145 [==============================] - 14s 4ms/sample - loss: 0.1978 - acc: 0.9434 - val_loss: 0.5616 - val_acc: 0.8463\n",
      "Epoch 14/30\n",
      "3145/3145 [==============================] - 14s 4ms/sample - loss: 0.1811 - acc: 0.9444 - val_loss: 0.5978 - val_acc: 0.8501\n",
      "Epoch 15/30\n",
      "3145/3145 [==============================] - 14s 4ms/sample - loss: 0.1777 - acc: 0.9491 - val_loss: 0.6116 - val_acc: 0.8437\n",
      "Epoch 16/30\n",
      "3145/3145 [==============================] - 14s 4ms/sample - loss: 0.1440 - acc: 0.9482 - val_loss: 0.6834 - val_acc: 0.8196\n",
      "Epoch 17/30\n",
      "3145/3145 [==============================] - 14s 4ms/sample - loss: 0.1498 - acc: 0.9533 - val_loss: 0.6174 - val_acc: 0.8399\n",
      "Epoch 18/30\n",
      "3145/3145 [==============================] - 14s 4ms/sample - loss: 0.1457 - acc: 0.9526 - val_loss: 0.6223 - val_acc: 0.8463\n",
      "Epoch 19/30\n",
      "3145/3145 [==============================] - 14s 4ms/sample - loss: 0.1209 - acc: 0.9612 - val_loss: 0.6531 - val_acc: 0.8463\n",
      "Epoch 20/30\n",
      "3145/3145 [==============================] - 14s 4ms/sample - loss: 0.1076 - acc: 0.9660 - val_loss: 0.5886 - val_acc: 0.8501\n",
      "Epoch 21/30\n",
      "3145/3145 [==============================] - 14s 4ms/sample - loss: 0.1007 - acc: 0.9685 - val_loss: 0.6319 - val_acc: 0.8615\n",
      "Epoch 22/30\n",
      "3145/3145 [==============================] - 14s 4ms/sample - loss: 0.0838 - acc: 0.9771 - val_loss: 0.6183 - val_acc: 0.8539\n",
      "Epoch 23/30\n",
      "3145/3145 [==============================] - 14s 4ms/sample - loss: 0.0779 - acc: 0.9730 - val_loss: 0.6174 - val_acc: 0.8640\n",
      "Epoch 24/30\n",
      "3145/3145 [==============================] - 14s 4ms/sample - loss: 0.0873 - acc: 0.9739 - val_loss: 0.6181 - val_acc: 0.8577\n",
      "Epoch 25/30\n",
      "3145/3145 [==============================] - 14s 4ms/sample - loss: 0.0940 - acc: 0.9682 - val_loss: 0.7016 - val_acc: 0.8551\n",
      "Epoch 26/30\n",
      "3145/3145 [==============================] - 14s 4ms/sample - loss: 0.0935 - acc: 0.9730 - val_loss: 0.7058 - val_acc: 0.8501\n",
      "Epoch 27/30\n",
      "3145/3145 [==============================] - 14s 4ms/sample - loss: 0.0734 - acc: 0.9765 - val_loss: 0.7000 - val_acc: 0.8691\n",
      "Epoch 28/30\n",
      "3145/3145 [==============================] - 14s 4ms/sample - loss: 0.0772 - acc: 0.9762 - val_loss: 0.7626 - val_acc: 0.8463\n",
      "Epoch 29/30\n",
      "3145/3145 [==============================] - 14s 4ms/sample - loss: 0.0760 - acc: 0.9762 - val_loss: 0.7103 - val_acc: 0.8501\n",
      "Epoch 30/30\n",
      "3145/3145 [==============================] - 14s 4ms/sample - loss: 0.0824 - acc: 0.9790 - val_loss: 0.7571 - val_acc: 0.8475\n"
     ]
    },
    {
     "data": {
      "image/png": "[encoded data removed]",
      "text/plain": [
       "<Figure size 432x288 with 1 Axes>"
      ]
     },
     "metadata": {
      "needs_background": "light"
     },
     "output_type": "display_data"
    },
    {
     "data": {
      "image/png": "[encoded data removed]",
      "text/plain": [
       "<Figure size 432x288 with 1 Axes>"
      ]
     },
     "metadata": {
      "needs_background": "light"
     },
     "output_type": "display_data"
    }
   ],
   "source": [
    "print(\"-------------------\")\n",
    "print(\"Training model\")\n",
    "print(\"-------------------\")\n",
    "\n",
    "with tf.device('/device:GPU:0'):\n",
    "    history = model.fit(X_train, y_train, batch_size=BATCH_SIZE, epochs=EPOCHS, validation_data=(X_val, y_val))\n",
    "\n",
    "\n",
    "# predictions = model.predict(X_test, batch_size=512)\n",
    "\n",
    "generate_plots(history, EPOCHS)\n",
    "\n",
    "best_results(history)"
   ]
  },
  {
   "cell_type": "code",
   "execution_count": null,
   "metadata": {},
   "outputs": [],
   "source": [
    "# test_labels = [np.argmax(prediction) for prediction in predictions]\n",
    "\n",
    "# import csv\n",
    "# with open('predictions.csv', 'w', newline='') as myfile:\n",
    "#     wr = csv.writer(myfile)\n",
    "#     wr.writerow(test_labels)"
   ]
  },
  {
   "cell_type": "code",
   "execution_count": null,
   "metadata": {},
   "outputs": [],
   "source": []
  }
 ],
 "metadata": {
  "jupytext": {
   "cell_metadata_filter": "-all",
   "encoding": "# -*- coding: utf-8 -*-",
   "main_language": "python",
   "notebook_metadata_filter": "-all"
  },
  "kernelspec": {
   "display_name": "Python 3",
   "language": "python",
   "name": "python3"
  },
  "language_info": {
   "codemirror_mode": {
    "name": "ipython",
    "version": 3
   },
   "file_extension": ".py",
   "mimetype": "text/x-python",
   "name": "python",
   "nbconvert_exporter": "python",
   "pygments_lexer": "ipython3",
   "version": "3.7.4"
  }
 },
 "nbformat": 4,
 "nbformat_minor": 2
}
