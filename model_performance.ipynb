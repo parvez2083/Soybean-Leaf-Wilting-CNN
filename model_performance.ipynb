{
 "cells": [
  {
   "cell_type": "code",
   "execution_count": 1,
   "metadata": {},
   "outputs": [
    {
     "name": "stderr",
     "output_type": "stream",
     "text": [
      "C:\\tools\\Anaconda3\\envs\\tf\\lib\\site-packages\\h5py\\__init__.py:72: UserWarning: h5py is running against HDF5 1.10.2 when it was built against 1.10.3, this may cause problems\n",
      "  '{0}.{1}.{2}'.format(*version.hdf5_built_version_tuple)\n"
     ]
    }
   ],
   "source": [
    "import os\n",
    "import cv2\n",
    "import matplotlib.pyplot as plt\n",
    "import pandas as pd\n",
    "import numpy as np\n",
    "import tensorflow as tf\n",
    "\n",
    "from sklearn.model_selection import train_test_split"
   ]
  },
  {
   "cell_type": "code",
   "execution_count": 2,
   "metadata": {},
   "outputs": [],
   "source": [
    "def read_training_images(train_files, train_dir):\n",
    "    \"\"\"\n",
    "    A method that reads the training image files in a given directory and returns the list of all images as numpy arrays\n",
    "    \"\"\"\n",
    "\n",
    "    images=[]\n",
    "    n=0\n",
    "    for img_name in train_files.file_name:\n",
    "        image_path = os.path.join(train_dir, img_name)\n",
    "        img = cv2.imread(image_path)\n",
    "        # img = np.expand_dims(cv2.resize(img, dsize=(COLS, ROWS), interpolation=cv2.INTER_CUBIC), axis=2)\n",
    "        # .flatten()\n",
    "        # print(n)\n",
    "        # print(type(img))\n",
    "        # print(img.shape)\n",
    "        # cv2.imshow('image', img)\n",
    "        # cv2.waitKey(0)\n",
    "        # cv2.destroyAllWindows()\n",
    "        img = img.astype('float32')\n",
    "        images.append(img)\n",
    "        n+=1\n",
    "    print(\"Number of training images read = {}\".format(n))\n",
    "\n",
    "    return images"
   ]
  },
  {
   "cell_type": "code",
   "execution_count": 3,
   "metadata": {},
   "outputs": [],
   "source": [
    "def custom_model(layer1_size, layer2_size, layer3_size, dropout):\n",
    "      \n",
    "    # initialize the VGG16 model from the keras library\n",
    "    custom_model = tf.keras.applications.VGG16(include_top=False,\n",
    "                                              weights=\"imagenet\",\n",
    "                                              input_shape=(480, 640, 3),\n",
    "                                              classes=5)\n",
    "    \n",
    "    model = tf.keras.Sequential()   \n",
    "    \n",
    "#     custom_model.summary()\n",
    "\n",
    "    # Freeze the layers\n",
    "    custom_model.trainable = False\n",
    "    \n",
    "    model.add(custom_model)\n",
    "    model.add(tf.keras.layers.Flatten())\n",
    "    model.add(tf.keras.layers.Dense(layer1_size, activation=\"relu\"))\n",
    "    model.add(tf.keras.layers.Dropout(dropout))\n",
    "    model.add(tf.keras.layers.Dense(layer2_size, activation=\"relu\"))\n",
    "    model.add(tf.keras.layers.Dropout(dropout))\n",
    "    model.add(tf.keras.layers.Dense(layer3_size, activation=\"relu\"))\n",
    "    model.add(tf.keras.layers.Dropout(dropout))\n",
    "\n",
    "    # Add 'softmax' instead of earlier 'prediction' layer.\n",
    "    model.add(tf.keras.layers.Dense(5, activation='softmax'))\n",
    "\n",
    "    return model"
   ]
  },
  {
   "cell_type": "code",
   "execution_count": 4,
   "metadata": {},
   "outputs": [],
   "source": [
    "def generate_plots(model_history, epochs):\n",
    "    \"\"\"\n",
    "    A method that takes the model history of a trained model and plots its:\n",
    "    1. Training accuracy\n",
    "    2. Training loss\n",
    "    3. Validation accuracy\n",
    "    4. Validation loss\n",
    "    \"\"\"\n",
    "    acc = model_history.history['acc']\n",
    "    val_acc = model_history.history['val_acc']\n",
    "    loss = model_history.history['loss']\n",
    "    val_loss = model_history.history['val_loss']\n",
    "\n",
    "\n",
    "    plt.figure(1)\n",
    "    plt.suptitle('Accuracy learning curve', fontsize=20)\n",
    "    plt.xlabel('epochs', fontsize=14)\n",
    "    plt.ylabel('accuracy', fontsize=14)\n",
    "    plt.plot(acc, label='training accuracy')\n",
    "    plt.plot(val_acc, label='validation accuracy')\n",
    "    plt.xticks(np.arange(0, epochs + epochs/10, epochs/10))\n",
    "    plt.legend(loc=\"lower right\")\n",
    "    plt.savefig(\"accuracy.png\", dpi=300)\n",
    "\n",
    "    plt.figure(2)\n",
    "    plt.suptitle('Loss learning curve', fontsize=20)\n",
    "    plt.xlabel('epochs', fontsize=14)\n",
    "    plt.ylabel('loss', fontsize=14)\n",
    "    plt.plot(loss, label='training loss')\n",
    "    plt.plot(val_loss, label='validation loss')\n",
    "    plt.xticks(np.arange(0, epochs + epochs/10, epochs/10))\n",
    "    plt.legend(loc=\"upper right\")\n",
    "    plt.savefig(\"loss.png\", dpi=300)"
   ]
  },
  {
   "cell_type": "code",
   "execution_count": 5,
   "metadata": {},
   "outputs": [],
   "source": [
    "def best_results(save_model, model_name, model_history):\n",
    "    \"\"\"\n",
    "    A method that prints the best validation accuracy and loss to a best_results.txt file.\n",
    "    \"\"\"\n",
    "    acc = model_history.history['acc']\n",
    "    val_acc = model_history.history['val_acc']\n",
    "    loss = model_history.history['loss']\n",
    "    val_loss = model_history.history['val_loss']\n",
    "\n",
    "    \n",
    "    f = open(\"./{}/{}results.txt\".format(save_model, model_name), \"w+\")\n",
    "    f.write(\"Training accuracy = {}\\n\".format(acc))\n",
    "    f.write(\"----------------------\\n\")\n",
    "    f.write(\"Training loss = {}\\n\".format(loss))\n",
    "    f.write(\"----------------------\\n\")\n",
    "    f.write(\"Validation accuracy = {}\\n\".format(val_acc))\n",
    "    f.write(\"----------------------\\n\")\n",
    "    f.write(\"Validation loss = {}\\n\".format(val_loss))\n",
    "    f.write(\"----------------------\\n\")\n",
    "    f.write(\"----------------------\\n\\n\")\n",
    "    f.close()"
   ]
  },
  {
   "cell_type": "code",
   "execution_count": 6,
   "metadata": {},
   "outputs": [
    {
     "name": "stdout",
     "output_type": "stream",
     "text": [
      "Number of training images read = 896\n",
      "Shape of training set: (716, 480, 640, 3)\n",
      "Shape of validation set: (180, 480, 640, 3)\n"
     ]
    }
   ],
   "source": [
    "save_model = \"saved_models\"\n",
    "os.makedirs(save_model, exist_ok=True)\n",
    "\n",
    "# Initialize the directories\n",
    "root_dir = os.path.abspath('./')\n",
    "train_dir = os.path.join(root_dir, 'Training')\n",
    "model_save_dir = os.path.join(root_dir, save_model)\n",
    "\n",
    "\n",
    "train_files = pd.read_csv(os.path.join(root_dir, 'train_files.csv'))\n",
    "\n",
    "# set constants\n",
    "COLS, ROWS, CHANNEL = 480, 640, 3\n",
    "\n",
    "# read the training and testing images\n",
    "training_images = read_training_images(train_files, train_dir)\n",
    "\n",
    "X_train = np.stack(training_images)\n",
    "y_train = train_files.annotation.values\n",
    "\n",
    "\n",
    "# Split the training data in training and validation sets\n",
    "X_train, X_val, y_train, y_val = train_test_split(X_train, y_train, test_size=0.2, random_state=None, shuffle=True, stratify=y_train)\n",
    "\n",
    "print(\"Shape of training set: {}\".format(X_train.shape))\n",
    "print(\"Shape of validation set: {}\".format(X_val.shape))"
   ]
  },
  {
   "cell_type": "code",
   "execution_count": 7,
   "metadata": {},
   "outputs": [],
   "source": [
    "# training variables\n",
    "EPOCHS = 20\n",
    "BATCH_SIZE = 8\n",
    "\n",
    "model_name = \"VGG16\"\n",
    "l1 = 512\n",
    "l2 = 512\n",
    "l3 = 256\n",
    "dropout = 0.4\n",
    "PARAM_STRING = \"{}_{}_{}_{}\".format(l1, l2, l3, dropout)"
   ]
  },
  {
   "cell_type": "code",
   "execution_count": 8,
   "metadata": {},
   "outputs": [
    {
     "name": "stdout",
     "output_type": "stream",
     "text": [
      "-------------------\n",
      "Compiling model\n",
      "-------------------\n",
      "WARNING:tensorflow:ModelCheckpoint mode main is unknown, fallback to auto mode.\n",
      "WARNING:tensorflow:From C:\\tools\\Anaconda3\\envs\\tf\\lib\\site-packages\\tensorflow\\python\\ops\\init_ops.py:1251: calling VarianceScaling.__init__ (from tensorflow.python.ops.init_ops) with dtype is deprecated and will be removed in a future version.\n",
      "Instructions for updating:\n",
      "Call initializer instance with the dtype argument instead of passing it to the constructor\n",
      "Model: \"sequential\"\n",
      "_________________________________________________________________\n",
      "Layer (type)                 Output Shape              Param #   \n",
      "=================================================================\n",
      "vgg16 (Model)                (None, 15, 20, 512)       14714688  \n",
      "_________________________________________________________________\n",
      "flatten (Flatten)            (None, 153600)            0         \n",
      "_________________________________________________________________\n",
      "dense (Dense)                (None, 512)               78643712  \n",
      "_________________________________________________________________\n",
      "dropout (Dropout)            (None, 512)               0         \n",
      "_________________________________________________________________\n",
      "dense_1 (Dense)              (None, 512)               262656    \n",
      "_________________________________________________________________\n",
      "dropout_1 (Dropout)          (None, 512)               0         \n",
      "_________________________________________________________________\n",
      "dense_2 (Dense)              (None, 256)               131328    \n",
      "_________________________________________________________________\n",
      "dropout_2 (Dropout)          (None, 256)               0         \n",
      "_________________________________________________________________\n",
      "dense_3 (Dense)              (None, 5)                 1285      \n",
      "=================================================================\n",
      "Total params: 93,753,669\n",
      "Trainable params: 79,038,981\n",
      "Non-trainable params: 14,714,688\n",
      "_________________________________________________________________\n"
     ]
    }
   ],
   "source": [
    "print(\"-------------------\")\n",
    "print(\"Compiling model\")\n",
    "print(\"-------------------\")\n",
    "\n",
    "es = tf.keras.callbacks.EarlyStopping(monitor='val_loss', patience=10)\n",
    "mc = tf.keras.callbacks.ModelCheckpoint('{}/best_model.h5'.format(model_save_dir), monitor='val_loss', mode='main', save_best_only=True, verbose=1)\n",
    "\n",
    "# initialize the model\n",
    "model = custom_model(l1, l2, l3, dropout)\n",
    "\n",
    "model.summary()\n",
    "\n",
    "model.compile(loss=tf.keras.losses.sparse_categorical_crossentropy,\n",
    "                optimizer=tf.keras.optimizers.Adam(),\n",
    "                metrics=['accuracy'])"
   ]
  },
  {
   "cell_type": "code",
   "execution_count": null,
   "metadata": {},
   "outputs": [
    {
     "name": "stdout",
     "output_type": "stream",
     "text": [
      "-------------------\n",
      "Training model\n",
      "-------------------\n",
      "Train on 716 samples, validate on 180 samples\n",
      "Epoch 1/20\n",
      "712/716 [============================>.] - ETA: 0s - loss: 48.0073 - acc: 0.4635\n",
      "Epoch 00001: val_loss improved from inf to 4.78371, saving model to C:\\Users\\knarang\\Documents\\C2\\Soybean-Leaf-Wilting-CNN\\saved_models/best_model.h5\n",
      "716/716 [==============================] - 20s 28ms/sample - loss: 47.7668 - acc: 0.4651 - val_loss: 4.7837 - val_acc: 0.7000\n",
      "Epoch 2/20\n",
      "712/716 [============================>.] - ETA: 0s - loss: 9.1134 - acc: 0.5997\n",
      "Epoch 00002: val_loss improved from 4.78371 to 2.44824, saving model to C:\\Users\\knarang\\Documents\\C2\\Soybean-Leaf-Wilting-CNN\\saved_models/best_model.h5\n",
      "716/716 [==============================] - 16s 22ms/sample - loss: 9.0712 - acc: 0.6006 - val_loss: 2.4482 - val_acc: 0.6722\n",
      "Epoch 3/20\n",
      "712/716 [============================>.] - ETA: 0s - loss: 5.7058 - acc: 0.6306\n",
      "Epoch 00003: val_loss improved from 2.44824 to 1.75526, saving model to C:\\Users\\knarang\\Documents\\C2\\Soybean-Leaf-Wilting-CNN\\saved_models/best_model.h5\n",
      "716/716 [==============================] - 16s 23ms/sample - loss: 5.6739 - acc: 0.6327 - val_loss: 1.7553 - val_acc: 0.7000\n",
      "Epoch 4/20\n",
      "712/716 [============================>.] - ETA: 0s - loss: 3.9549 - acc: 0.7219\n",
      "Epoch 00004: val_loss improved from 1.75526 to 1.40089, saving model to C:\\Users\\knarang\\Documents\\C2\\Soybean-Leaf-Wilting-CNN\\saved_models/best_model.h5\n",
      "716/716 [==============================] - 16s 22ms/sample - loss: 3.9395 - acc: 0.7221 - val_loss: 1.4009 - val_acc: 0.7722\n",
      "Epoch 5/20\n",
      "600/716 [========================>.....] - ETA: 1s - loss: 3.2269 - acc: 0.7350"
     ]
    }
   ],
   "source": [
    "print(\"-------------------\")\n",
    "print(\"Training model\")\n",
    "print(\"-------------------\")\n",
    "\n",
    "with tf.device('/device:GPU:0'):\n",
    "    history = model.fit(X_train, y_train, batch_size=BATCH_SIZE, epochs=EPOCHS, callbacks=[es, mc], validation_data=(X_val, y_val))\n",
    "    "
   ]
  },
  {
   "cell_type": "code",
   "execution_count": null,
   "metadata": {},
   "outputs": [],
   "source": [
    "# model.save('{}/best_model.h5'.format(model_save_dir)) \n",
    "\n",
    "# Recreate the exact same model, including its weights and the optimizer\n",
    "# new_model = tf.keras.models.load_model('my_model.h5')\n",
    "\n",
    "# Show the model architecture\n",
    "# new_model.summary()"
   ]
  },
  {
   "cell_type": "code",
   "execution_count": null,
   "metadata": {},
   "outputs": [],
   "source": [
    "generate_plots(history, EPOCHS)\n",
    "best_results(save_model, model_name, history)"
   ]
  },
  {
   "cell_type": "code",
   "execution_count": null,
   "metadata": {},
   "outputs": [],
   "source": []
  }
 ],
 "metadata": {
  "kernelspec": {
   "display_name": "Python 3",
   "language": "python",
   "name": "python3"
  },
  "language_info": {
   "codemirror_mode": {
    "name": "ipython",
    "version": 3
   },
   "file_extension": ".py",
   "mimetype": "text/x-python",
   "name": "python",
   "nbconvert_exporter": "python",
   "pygments_lexer": "ipython3",
   "version": "3.7.1"
  }
 },
 "nbformat": 4,
 "nbformat_minor": 2
}
