{
 "cells": [
  {
   "cell_type": "code",
   "execution_count": 1,
   "metadata": {},
   "outputs": [],
   "source": [
    "import os\n",
    "import cv2\n",
    "import matplotlib.pyplot as plt\n",
    "import pandas as pd\n",
    "import numpy as np\n",
    "import tensorflow as tf"
   ]
  },
  {
   "cell_type": "code",
   "execution_count": 2,
   "metadata": {},
   "outputs": [],
   "source": [
    "def read_training_images(train_files, train_dir):\n",
    "    \"\"\"\n",
    "    A method that reads the training image files in a given directory and returns the list of all images as numpy arrays\n",
    "    \"\"\"\n",
    "\n",
    "    images=[]\n",
    "    n=0\n",
    "    for img_name in train_files.file_name:\n",
    "        image_path = os.path.join(train_dir, img_name)\n",
    "        img = cv2.imread(image_path)\n",
    "        # img = np.expand_dims(cv2.resize(img, dsize=(COLS, ROWS), interpolation=cv2.INTER_CUBIC), axis=2)\n",
    "        # .flatten()\n",
    "        # print(n)\n",
    "        # print(type(img))\n",
    "        # print(img.shape)\n",
    "        # cv2.imshow('image', img)\n",
    "        # cv2.waitKey(0)\n",
    "        # cv2.destroyAllWindows()\n",
    "        img = img.astype('float32')\n",
    "        images.append(img)\n",
    "        n+=1\n",
    "    print(\"Number of training images read = {}\".format(n))\n",
    "\n",
    "    return images"
   ]
  },
  {
   "cell_type": "code",
   "execution_count": 3,
   "metadata": {},
   "outputs": [
    {
     "name": "stdout",
     "output_type": "stream",
     "text": [
      "Number of training images read = 896\n"
     ]
    }
   ],
   "source": [
    "# Initialize the directories\n",
    "root_dir = os.path.abspath('./')\n",
    "train_dir = os.path.join(root_dir, 'Training')\n",
    "\n",
    "train_files = pd.read_csv(os.path.join(root_dir, 'train_files.csv'))\n",
    "\n",
    "# read the training and testing images\n",
    "training_images = read_training_images(train_files, train_dir)\n",
    "\n",
    "\n",
    "X_train = np.stack(training_images)\n",
    "y_train = train_files.annotation.values\n",
    "\n"
   ]
  },
  {
   "cell_type": "code",
   "execution_count": 4,
   "metadata": {},
   "outputs": [
    {
     "name": "stdout",
     "output_type": "stream",
     "text": [
      "Model: \"sequential\"\n",
      "_________________________________________________________________\n",
      "Layer (type)                 Output Shape              Param #   \n",
      "=================================================================\n",
      "vgg16 (Model)                (None, 15, 20, 512)       14714688  \n",
      "_________________________________________________________________\n",
      "flatten (Flatten)            (None, 153600)            0         \n",
      "_________________________________________________________________\n",
      "dense (Dense)                (None, 512)               78643712  \n",
      "_________________________________________________________________\n",
      "dropout (Dropout)            (None, 512)               0         \n",
      "_________________________________________________________________\n",
      "dense_1 (Dense)              (None, 512)               262656    \n",
      "_________________________________________________________________\n",
      "dropout_1 (Dropout)          (None, 512)               0         \n",
      "_________________________________________________________________\n",
      "dense_2 (Dense)              (None, 256)               131328    \n",
      "_________________________________________________________________\n",
      "dropout_2 (Dropout)          (None, 256)               0         \n",
      "_________________________________________________________________\n",
      "dense_3 (Dense)              (None, 5)                 1285      \n",
      "=================================================================\n",
      "Total params: 93,753,669\n",
      "Trainable params: 79,038,981\n",
      "Non-trainable params: 14,714,688\n",
      "_________________________________________________________________\n"
     ]
    }
   ],
   "source": [
    "# Recreate the exact same model, including its weights and the optimizer\n",
    "saved_model = tf.keras.models.load_model('./best_model/best_model.h5')\n",
    "\n",
    "# Show the model architecture\n",
    "saved_model.summary()"
   ]
  },
  {
   "cell_type": "code",
   "execution_count": 5,
   "metadata": {},
   "outputs": [],
   "source": [
    "y_pred = saved_model.predict(X_train, batch_size=16)"
   ]
  },
  {
   "cell_type": "code",
   "execution_count": 6,
   "metadata": {},
   "outputs": [
    {
     "data": {
      "text/plain": [
       "array([[2.9698772e-09, 1.3528326e-06, 1.9556006e-02, 9.8035663e-01,\n",
       "        8.5840351e-05],\n",
       "       [4.3936285e-01, 2.5055090e-01, 1.9970720e-01, 6.1963215e-02,\n",
       "        4.8415832e-02],\n",
       "       [1.0000000e+00, 1.2924688e-14, 1.7643899e-10, 1.1333112e-25,\n",
       "        1.6806203e-19],\n",
       "       ...,\n",
       "       [1.1283535e-04, 9.9787807e-01, 8.9279941e-04, 1.1059310e-03,\n",
       "        1.0330981e-05],\n",
       "       [2.8423717e-09, 1.0000000e+00, 4.9807717e-08, 1.5523721e-09,\n",
       "        1.3857580e-13],\n",
       "       [1.3710091e-01, 4.8878533e-01, 1.7591909e-01, 1.4526516e-01,\n",
       "        5.2929498e-02]], dtype=float32)"
      ]
     },
     "execution_count": 6,
     "metadata": {},
     "output_type": "execute_result"
    }
   ],
   "source": [
    "y_pred"
   ]
  },
  {
   "cell_type": "code",
   "execution_count": 8,
   "metadata": {},
   "outputs": [],
   "source": [
    "np.savetxt('y_pred.csv', y_pred, delimiter=\",\")"
   ]
  },
  {
   "cell_type": "code",
   "execution_count": 9,
   "metadata": {},
   "outputs": [],
   "source": [
    "y_train_cat = tf.keras.utils.to_categorical(y_train, num_classes=5)\n",
    "np.savetxt('y_train.csv', y_train_cat, fmt=\"%d\", delimiter=\",\")"
   ]
  },
  {
   "cell_type": "code",
   "execution_count": null,
   "metadata": {},
   "outputs": [],
   "source": []
  }
 ],
 "metadata": {
  "kernelspec": {
   "display_name": "Python 3",
   "language": "python",
   "name": "python3"
  },
  "language_info": {
   "codemirror_mode": {
    "name": "ipython",
    "version": 3
   },
   "file_extension": ".py",
   "mimetype": "text/x-python",
   "name": "python",
   "nbconvert_exporter": "python",
   "pygments_lexer": "ipython3",
   "version": "3.7.5"
  }
 },
 "nbformat": 4,
 "nbformat_minor": 2
}
