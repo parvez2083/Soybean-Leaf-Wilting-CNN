{
 "cells": [
  {
   "cell_type": "code",
   "execution_count": 1,
   "metadata": {},
   "outputs": [
    {
     "name": "stderr",
     "output_type": "stream",
     "text": [
      "C:\\tools\\Anaconda3\\envs\\tf\\lib\\site-packages\\h5py\\__init__.py:72: UserWarning: h5py is running against HDF5 1.10.2 when it was built against 1.10.3, this may cause problems\n",
      "  '{0}.{1}.{2}'.format(*version.hdf5_built_version_tuple)\n"
     ]
    }
   ],
   "source": [
    "import os\n",
    "import cv2\n",
    "import matplotlib.pyplot as plt\n",
    "import pandas as pd\n",
    "import numpy as np\n",
    "import tensorflow as tf\n",
    "\n",
    "from sklearn.model_selection import train_test_split"
   ]
  },
  {
   "cell_type": "code",
   "execution_count": 2,
   "metadata": {},
   "outputs": [
    {
     "data": {
      "text/plain": [
       "'\\nTwo different methods for reading training and testing images since train_files.csv does not preserve order of files in the training images folder\\n'"
      ]
     },
     "execution_count": 2,
     "metadata": {},
     "output_type": "execute_result"
    }
   ],
   "source": [
    "\"\"\"\n",
    "Two different methods for reading training and testing images since train_files.csv does not preserve order of files in the training images folder\n",
    "\"\"\""
   ]
  },
  {
   "cell_type": "code",
   "execution_count": 3,
   "metadata": {},
   "outputs": [],
   "source": [
    "def read_training_images(train_files, train_dir):\n",
    "    \"\"\"\n",
    "    A method that reads the training image files in a given directory and returns the list of all images as numpy arrays\n",
    "    \"\"\"\n",
    "\n",
    "    images=[]\n",
    "    n=0\n",
    "    for img_name in train_files.file_name:\n",
    "        image_path = os.path.join(train_dir, img_name)\n",
    "        img = cv2.imread(image_path)\n",
    "        # img = np.expand_dims(cv2.resize(img, dsize=(COLS, ROWS), interpolation=cv2.INTER_CUBIC), axis=2)\n",
    "        # .flatten()\n",
    "        # print(n)\n",
    "        # print(type(img))\n",
    "        # print(img.shape)\n",
    "        # cv2.imshow('image', img)\n",
    "        # cv2.waitKey(0)\n",
    "        # cv2.destroyAllWindows()\n",
    "        img = img.astype('float32')\n",
    "        images.append(img)\n",
    "        n+=1\n",
    "    print(\"Number of training images read = {}\".format(n))\n",
    "\n",
    "    return images"
   ]
  },
  {
   "cell_type": "code",
   "execution_count": 4,
   "metadata": {},
   "outputs": [],
   "source": [
    "def read_testing_images(directory):\n",
    "    \"\"\"\n",
    "    A method that reads the test image files in a given directory and returns the list of all images as numpy arrays\n",
    "    \"\"\"\n",
    "    files = os.listdir(directory)\n",
    "\n",
    "    images=[]\n",
    "    m=0\n",
    "    for fil in files:\n",
    "        image_path = os.path.join(directory, fil)\n",
    "        img = cv2.imread(image_path)\n",
    "        # img = np.expand_dims(cv2.resize(img, dsize=(COLS, ROWS), interpolation=cv2.INTER_CUBIC), axis=2)\n",
    "        img = img.astype('float32')\n",
    "        images.append(img)\n",
    "        m+=1\n",
    "    print(\"Number of testing images read = {}\".format(m))\n",
    "\n",
    "    return images"
   ]
  },
  {
   "cell_type": "code",
   "execution_count": 5,
   "metadata": {},
   "outputs": [],
   "source": [
    "def custom_vgg16(layer1_size=512, layer2_size=512, layer3_size=256, dropout=0.3, activation=\"relu\", cols=480, rows=640, channel=3):\n",
    "    \"\"\"\n",
    "    A model that generates a custom VGG16 model by adding dense layer to its bottom.\n",
    "    The top layers from VGG16 were not used. The extracted VGG16 layers were used for\n",
    "    feature representation and hence were not made trainable (frozen).\n",
    "    This function retuns a custom VGG16 model with all the layers added. \n",
    "    \"\"\"\n",
    "\n",
    "    \n",
    "    # initialize the VGG16 model from the keras library\n",
    "    vgg16_model = tf.keras.applications.VGG19(include_top=False,\n",
    "                                              weights=\"imagenet\",\n",
    "                                              input_shape=(cols, rows, channel),\n",
    "                                              classes=5)\n",
    "\n",
    "    model = tf.keras.Sequential()\n",
    "\n",
    "#     for layer in vgg16_model.layers[:-1]: \n",
    "#         model.add(layer)\n",
    "\n",
    "\n",
    "    # Freeze the layers\n",
    "    for layer in model.layers:\n",
    "        layer.trainable = False\n",
    "        \n",
    "        \n",
    "    model.add(vgg16_model)\n",
    "    model.add(tf.keras.layers.Flatten())\n",
    "    model.add(tf.keras.layers.Dense(layer1_size, activation=activation))\n",
    "    model.add(tf.keras.layers.Dropout(dropout))\n",
    "    model.add(tf.keras.layers.Dense(layer2_size, activation=activation))\n",
    "    model.add(tf.keras.layers.Dropout(dropout))\n",
    "    model.add(tf.keras.layers.Dense(layer3_size, activation=activation))\n",
    "    model.add(tf.keras.layers.Dropout(dropout))\n",
    "\n",
    "    # Add 'softmax' instead of earlier 'prediction' layer.\n",
    "    model.add(tf.keras.layers.Dense(5, activation='softmax'))\n",
    "\n",
    "    return model"
   ]
  },
  {
   "cell_type": "code",
   "execution_count": 6,
   "metadata": {},
   "outputs": [],
   "source": [
    "def generate_plots(model_history, epochs):\n",
    "    \"\"\"\n",
    "    A method that takes the model history of a trained model and plots its:\n",
    "    1. Training accuracy\n",
    "    2. Training loss\n",
    "    3. Validation accuracy\n",
    "    4. Validation loss\n",
    "    \"\"\"\n",
    "    acc = model_history.history['acc']\n",
    "    val_acc = model_history.history['val_acc']\n",
    "    loss = model_history.history['loss']\n",
    "    val_loss = model_history.history['val_loss']\n",
    "\n",
    "\n",
    "    plt.figure(1)\n",
    "    plt.suptitle('Accuracy learning curve', fontsize=20)\n",
    "    plt.xlabel('epochs', fontsize=14)\n",
    "    plt.ylabel('accuracy', fontsize=14)\n",
    "    plt.plot(acc, label='training accuracy')\n",
    "    plt.plot(val_acc, label='validation accuracy')\n",
    "    plt.xticks(np.arange(0, epochs, epochs/10))\n",
    "    plt.legend(loc=\"lower right\")\n",
    "    plt.savefig(\"accuracy.png\", dpi=300)\n",
    "\n",
    "    plt.figure(2)\n",
    "    plt.suptitle('Loss learning curve', fontsize=20)\n",
    "    plt.xlabel('epochs', fontsize=14)\n",
    "    plt.ylabel('loss', fontsize=14)\n",
    "    plt.plot(loss, label='training loss')\n",
    "    plt.plot(val_loss, label='validation loss')\n",
    "    plt.xticks(np.arange(0, epochs, epochs/10))\n",
    "    plt.legend(loc=\"upper right\")\n",
    "    plt.savefig(\"loss.png\", dpi=300)"
   ]
  },
  {
   "cell_type": "code",
   "execution_count": 7,
   "metadata": {},
   "outputs": [],
   "source": [
    "def best_results(model_history):\n",
    "    \"\"\"\n",
    "    A method that prints the best validation accuracy and loss to a best_results.txt file.\n",
    "    \"\"\"\n",
    "    acc = model_history.history['acc']\n",
    "    val_acc = model_history.history['val_acc']\n",
    "    loss = model_history.history['loss']\n",
    "    val_loss = model_history.history['val_loss']\n",
    "\n",
    "    \n",
    "    f = open(\"best_results.txt\", \"w+\")\n",
    "    f.write(\"Training accuracy = {}\\n\".format(acc))\n",
    "    f.write(\"----------------------\\n\")\n",
    "    f.write(\"Training loss = {}\\n\".format(loss))\n",
    "    f.write(\"----------------------\\n\")\n",
    "    f.write(\"Validation accuracy = {}\\n\".format(val_acc))\n",
    "    f.write(\"----------------------\\n\")\n",
    "    f.write(\"Validation loss = {}\\n\".format(val_loss))\n",
    "    f.write(\"----------------------\\n\")\n",
    "    f.write(\"----------------------\\n\\n\")\n",
    "    f.close()"
   ]
  },
  {
   "cell_type": "code",
   "execution_count": 8,
   "metadata": {},
   "outputs": [
    {
     "name": "stdout",
     "output_type": "stream",
     "text": [
      "Number of training images read = 896\n",
      "Number of testing images read = 129\n",
      "Shape of training set: (716, 480, 640, 3)\n",
      "Shape of validation set: (180, 480, 640, 3)\n",
      "Shape of testing set: (129, 480, 640, 3)\n"
     ]
    }
   ],
   "source": [
    "\n",
    "# Initialize the directories\n",
    "root_dir = os.path.abspath('./')\n",
    "train_dir = os.path.join(root_dir, 'Training')\n",
    "test_dir = os.path.join(root_dir, 'Project_C2_Testing')\n",
    "\n",
    "\n",
    "train_files = pd.read_csv(os.path.join(root_dir, 'train_files.csv'))\n",
    "\n",
    "# set constants\n",
    "COLS, ROWS, CHANNEL = 480, 640, 3\n",
    "\n",
    "# training constants\n",
    "EPOCHS = 30\n",
    "BATCH_SIZE = 16\n",
    "\n",
    "# read the training and testing images\n",
    "training_images = read_training_images(train_files, train_dir)\n",
    "testing_images = read_testing_images(test_dir)\n",
    "\n",
    "\n",
    "X_train = np.stack(training_images)\n",
    "y_train = train_files.annotation.values\n",
    "X_test = np.stack(testing_images)\n",
    "\n",
    "\n",
    "# Split the training data in training and validation sets\n",
    "X_train, X_val, y_train, y_val = train_test_split(X_train, y_train, test_size=0.2, random_state=None, shuffle=True, stratify=y_train)\n",
    "\n",
    "print(\"Shape of training set: {}\".format(X_train.shape))\n",
    "print(\"Shape of validation set: {}\".format(X_val.shape))\n",
    "print(\"Shape of testing set: {}\".format(X_test.shape))    "
   ]
  },
  {
   "cell_type": "code",
   "execution_count": 9,
   "metadata": {
    "scrolled": true
   },
   "outputs": [
    {
     "name": "stdout",
     "output_type": "stream",
     "text": [
      "-------------------\n",
      "Compiling model\n",
      "-------------------\n",
      "WARNING:tensorflow:From C:\\tools\\Anaconda3\\envs\\tf\\lib\\site-packages\\tensorflow\\python\\ops\\init_ops.py:1251: calling VarianceScaling.__init__ (from tensorflow.python.ops.init_ops) with dtype is deprecated and will be removed in a future version.\n",
      "Instructions for updating:\n",
      "Call initializer instance with the dtype argument instead of passing it to the constructor\n",
      "Model: \"sequential\"\n",
      "_________________________________________________________________\n",
      "Layer (type)                 Output Shape              Param #   \n",
      "=================================================================\n",
      "vgg19 (Model)                (None, 15, 20, 512)       20024384  \n",
      "_________________________________________________________________\n",
      "flatten (Flatten)            (None, 153600)            0         \n",
      "_________________________________________________________________\n",
      "dense (Dense)                (None, 512)               78643712  \n",
      "_________________________________________________________________\n",
      "dropout (Dropout)            (None, 512)               0         \n",
      "_________________________________________________________________\n",
      "dense_1 (Dense)              (None, 512)               262656    \n",
      "_________________________________________________________________\n",
      "dropout_1 (Dropout)          (None, 512)               0         \n",
      "_________________________________________________________________\n",
      "dense_2 (Dense)              (None, 256)               131328    \n",
      "_________________________________________________________________\n",
      "dropout_2 (Dropout)          (None, 256)               0         \n",
      "_________________________________________________________________\n",
      "dense_3 (Dense)              (None, 5)                 1285      \n",
      "=================================================================\n",
      "Total params: 99,063,365\n",
      "Trainable params: 99,063,365\n",
      "Non-trainable params: 0\n",
      "_________________________________________________________________\n"
     ]
    }
   ],
   "source": [
    "print(\"-------------------\")\n",
    "print(\"Compiling model\")\n",
    "print(\"-------------------\")\n",
    "\n",
    "# initialize the model\n",
    "model = custom_vgg16(512, 512, 256, 0.4, \"relu\", COLS, ROWS, CHANNEL)\n",
    "\n",
    "model.summary()\n",
    "\n",
    "model.compile(loss=tf.keras.losses.sparse_categorical_crossentropy,\n",
    "                optimizer=tf.keras.optimizers.Adam(),\n",
    "                metrics=['accuracy'])"
   ]
  },
  {
   "cell_type": "code",
   "execution_count": null,
   "metadata": {},
   "outputs": [
    {
     "name": "stdout",
     "output_type": "stream",
     "text": [
      "-------------------\n",
      "Training model\n",
      "-------------------\n",
      "Train on 716 samples, validate on 180 samples\n",
      "Epoch 1/30\n",
      "716/716 [==============================] - 41s 58ms/sample - loss: 11.7611 - acc: 0.4260 - val_loss: 1.4430 - val_acc: 0.4889\n",
      "Epoch 2/30\n",
      "716/716 [==============================] - 29s 41ms/sample - loss: 1.3717 - acc: 0.4874 - val_loss: 1.3432 - val_acc: 0.4889\n",
      "Epoch 3/30\n",
      "336/716 [=============>................] - ETA: 14s - loss: 1.3586 - acc: 0.4554"
     ]
    }
   ],
   "source": [
    "print(\"-------------------\")\n",
    "print(\"Training model\")\n",
    "print(\"-------------------\")\n",
    "\n",
    "with tf.device('/device:GPU:0'):\n",
    "    history = model.fit(X_train, y_train, batch_size=BATCH_SIZE, epochs=EPOCHS, validation_data=(X_val, y_val))\n",
    "\n",
    "\n",
    "predictions = model.predict(X_test, batch_size=16)\n",
    "\n",
    "generate_plots(history, EPOCHS)\n",
    "\n",
    "best_results(history)"
   ]
  },
  {
   "cell_type": "code",
   "execution_count": null,
   "metadata": {},
   "outputs": [],
   "source": [
    "labels = [np.argmax(prediction) for prediction in predictions]\n",
    "\n",
    "# import csv\n",
    "# with open('predictions.csv', 'w', newline='') as myfile:\n",
    "#     wr = csv.writer(myfile)\n",
    "#     wr.writerow(test_labels)"
   ]
  },
  {
   "cell_type": "code",
   "execution_count": null,
   "metadata": {},
   "outputs": [],
   "source": [
    "y_pred = tf.keras.utils.to_categorical(labels)\n",
    "numpy.savetxt(\"./predictions_inceptionV3.csv\", y_pred, fmt=\"%d\", delimiter=\",\")"
   ]
  }
 ],
 "metadata": {
  "jupytext": {
   "cell_metadata_filter": "-all",
   "encoding": "# -*- coding: utf-8 -*-",
   "main_language": "python",
   "notebook_metadata_filter": "-all"
  },
  "kernelspec": {
   "display_name": "Python 3",
   "language": "python",
   "name": "python3"
  },
  "language_info": {
   "codemirror_mode": {
    "name": "ipython",
    "version": 3
   },
   "file_extension": ".py",
   "mimetype": "text/x-python",
   "name": "python",
   "nbconvert_exporter": "python",
   "pygments_lexer": "ipython3",
   "version": "3.7.1"
  }
 },
 "nbformat": 4,
 "nbformat_minor": 2
}
