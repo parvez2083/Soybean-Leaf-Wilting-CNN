{
 "cells": [
  {
   "cell_type": "code",
   "execution_count": 1,
   "metadata": {},
   "outputs": [
    {
     "name": "stderr",
     "output_type": "stream",
     "text": [
      "C:\\tools\\Anaconda3\\envs\\tf\\lib\\site-packages\\h5py\\__init__.py:72: UserWarning: h5py is running against HDF5 1.10.2 when it was built against 1.10.3, this may cause problems\n",
      "  '{0}.{1}.{2}'.format(*version.hdf5_built_version_tuple)\n"
     ]
    }
   ],
   "source": [
    "import os\n",
    "import cv2\n",
    "import matplotlib.pyplot as plt\n",
    "import pandas as pd\n",
    "import numpy as np\n",
    "import tensorflow as tf\n",
    "\n",
    "from sklearn.model_selection import train_test_split"
   ]
  },
  {
   "cell_type": "code",
   "execution_count": 2,
   "metadata": {},
   "outputs": [
    {
     "data": {
      "text/plain": [
       "'\\nTwo different methods for reading training and testing images since train_files.csv does not preserve order of files in the training images folder\\n'"
      ]
     },
     "execution_count": 2,
     "metadata": {},
     "output_type": "execute_result"
    }
   ],
   "source": [
    "\"\"\"\n",
    "Two different methods for reading training and testing images since train_files.csv does not preserve order of files in the training images folder\n",
    "\"\"\""
   ]
  },
  {
   "cell_type": "code",
   "execution_count": 3,
   "metadata": {},
   "outputs": [],
   "source": [
    "def read_training_images(train_files, train_dir):\n",
    "    \"\"\"\n",
    "    A method that reads the training image files in a given directory and returns the list of all images as numpy arrays\n",
    "    \"\"\"\n",
    "\n",
    "    images=[]\n",
    "    n=0\n",
    "    for img_name in train_files.file_name:\n",
    "        image_path = os.path.join(train_dir, img_name)\n",
    "        img = cv2.imread(image_path)\n",
    "        # img = np.expand_dims(cv2.resize(img, dsize=(COLS, ROWS), interpolation=cv2.INTER_CUBIC), axis=2)\n",
    "        # .flatten()\n",
    "        # print(n)\n",
    "        # print(type(img))\n",
    "        # print(img.shape)\n",
    "        # cv2.imshow('image', img)\n",
    "        # cv2.waitKey(0)\n",
    "        # cv2.destroyAllWindows()\n",
    "        img = img.astype('float32')\n",
    "        images.append(img)\n",
    "        n+=1\n",
    "    print(\"Number of training images read = {}\".format(n))\n",
    "\n",
    "    return images"
   ]
  },
  {
   "cell_type": "code",
   "execution_count": 4,
   "metadata": {},
   "outputs": [],
   "source": [
    "def read_testing_images(directory):\n",
    "    \"\"\"\n",
    "    A method that reads the test image files in a given directory and returns the list of all images as numpy arrays\n",
    "    \"\"\"\n",
    "    files = os.listdir(directory)\n",
    "\n",
    "    images=[]\n",
    "    m=0\n",
    "    for fil in files:\n",
    "        image_path = os.path.join(directory, fil)\n",
    "        img = cv2.imread(image_path)\n",
    "        # img = np.expand_dims(cv2.resize(img, dsize=(COLS, ROWS), interpolation=cv2.INTER_CUBIC), axis=2)\n",
    "        img = img.astype('float32')\n",
    "        images.append(img)\n",
    "        m+=1\n",
    "    print(\"Number of testing images read = {}\".format(m))\n",
    "\n",
    "    return images"
   ]
  },
  {
   "cell_type": "code",
   "execution_count": 5,
   "metadata": {},
   "outputs": [],
   "source": [
    "def custom_vgg16(layer1_size=512, layer2_size=512, layer3_size=256, dropout=0.3, activation=\"relu\", cols=480, rows=640, channel=3):\n",
    "    \"\"\"\n",
    "    A model that generates a custom VGG16 model by adding dense layer to its bottom.\n",
    "    The top layers from VGG16 were not used. The extracted VGG16 layers were used for\n",
    "    feature representation and hence were not made trainable (frozen).\n",
    "    This function retuns a custom VGG16 model with all the layers added. \n",
    "    \"\"\"\n",
    "\n",
    "    \n",
    "    # initialize the VGG16 model from the keras library\n",
    "    vgg16_model = tf.keras.applications.VGG16(include_top=False,\n",
    "                                              weights='imagenet',\n",
    "                                              input_tensor=None,\n",
    "                                              input_shape=(cols, rows, channel),\n",
    "                                              pooling=None,\n",
    "                                              classes=5)\n",
    "\n",
    "    model = tf.keras.Sequential()\n",
    "\n",
    "    for layer in vgg16_model.layers[:-1]: \n",
    "        model.add(layer)\n",
    "\n",
    "\n",
    "    # Freeze the layers\n",
    "    for layer in model.layers:\n",
    "        layer.trainable = False\n",
    "\n",
    "    model.add(tf.keras.layers.Flatten())\n",
    "    model.add(tf.keras.layers.Dense(layer1_size, activation=activation))\n",
    "    model.add(tf.keras.layers.Dropout(dropout))\n",
    "    model.add(tf.keras.layers.Dense(layer2_size, activation=activation))\n",
    "    model.add(tf.keras.layers.Dropout(dropout))\n",
    "    model.add(tf.keras.layers.Dense(layer3_size, activation=activation))\n",
    "    model.add(tf.keras.layers.Dropout(dropout))\n",
    "    # model.add(tf.keras.layers.Dense(layer4_size, activation=activation))\n",
    "    # model.add(tf.keras.layers.Dropout(dropout))\n",
    "\n",
    "    # Add 'softmax' instead of earlier 'prediction' layer.\n",
    "    model.add(tf.keras.layers.Dense(5, activation='softmax'))\n",
    "\n",
    "    return model"
   ]
  },
  {
   "cell_type": "code",
   "execution_count": 6,
   "metadata": {},
   "outputs": [],
   "source": [
    "def generate_plots(model_history, epochs):\n",
    "    \"\"\"\n",
    "    A method that takes the model history of a trained model and plots its:\n",
    "    1. Training accuracy\n",
    "    2. Training loss\n",
    "    3. Validation accuracy\n",
    "    4. Validation loss\n",
    "    \"\"\"\n",
    "    acc = model_history.history['acc']\n",
    "    val_acc = model_history.history['val_acc']\n",
    "    loss = model_history.history['loss']\n",
    "    val_loss = model_history.history['val_loss']\n",
    "\n",
    "\n",
    "    plt.figure(1)\n",
    "    plt.suptitle('Accuracy learning curve', fontsize=20)\n",
    "    plt.xlabel('epochs', fontsize=14)\n",
    "    plt.ylabel('accuracy', fontsize=14)\n",
    "    plt.plot(acc, label='training accuracy')\n",
    "    plt.plot(val_acc, label='validation accuracy')\n",
    "    plt.xticks(np.arange(0, epochs, epochs/10))\n",
    "    plt.legend(loc=\"lower right\")\n",
    "    plt.savefig(\"accuracy.png\", dpi=300)\n",
    "\n",
    "    plt.figure(2)\n",
    "    plt.suptitle('Loss learning curve', fontsize=20)\n",
    "    plt.xlabel('epochs', fontsize=14)\n",
    "    plt.ylabel('loss', fontsize=14)\n",
    "    plt.plot(loss, label='training loss')\n",
    "    plt.plot(val_loss, label='validation loss')\n",
    "    plt.xticks(np.arange(0, epochs, epochs/10))\n",
    "    plt.legend(loc=\"upper right\")\n",
    "    plt.savefig(\"loss.png\", dpi=300)"
   ]
  },
  {
   "cell_type": "code",
   "execution_count": 7,
   "metadata": {},
   "outputs": [],
   "source": [
    "def best_results(model_history):\n",
    "    \"\"\"\n",
    "    A method that prints the best validation accuracy and loss to a best_results.txt file.\n",
    "    \"\"\"\n",
    "    acc = model_history.history['acc']\n",
    "    val_acc = model_history.history['val_acc']\n",
    "    loss = model_history.history['loss']\n",
    "    val_loss = model_history.history['val_loss']\n",
    "\n",
    "    \n",
    "    f = open(\"best_results.txt\", \"w+\")\n",
    "    f.write(\"Training accuracy = {}\\n\".format(acc))\n",
    "    f.write(\"----------------------\\n\")\n",
    "    f.write(\"Training loss = {}\\n\".format(loss))\n",
    "    f.write(\"----------------------\\n\")\n",
    "    f.write(\"Validation accuracy = {}\\n\".format(val_acc))\n",
    "    f.write(\"----------------------\\n\")\n",
    "    f.write(\"Validation loss = {}\\n\".format(val_loss))\n",
    "    f.write(\"----------------------\\n\")\n",
    "    f.write(\"----------------------\\n\\n\")\n",
    "    f.close()"
   ]
  },
  {
   "cell_type": "code",
   "execution_count": 8,
   "metadata": {},
   "outputs": [
    {
     "name": "stdout",
     "output_type": "stream",
     "text": [
      "Number of training images read = 896\n",
      "Number of testing images read = 129\n",
      "Shape of training set: (716, 480, 640, 3)\n",
      "Shape of validation set: (180, 480, 640, 3)\n",
      "Shape of testing set: (129, 480, 640, 3)\n"
     ]
    }
   ],
   "source": [
    "\n",
    "# Initialize the directories\n",
    "root_dir = os.path.abspath('./')\n",
    "train_dir = os.path.join(root_dir, 'Training')\n",
    "test_dir = os.path.join(root_dir, 'Project_C2_Testing')\n",
    "\n",
    "\n",
    "train_files = pd.read_csv(os.path.join(root_dir, 'train_files.csv'))\n",
    "\n",
    "# set constants\n",
    "COLS, ROWS, CHANNEL = 480, 640, 3\n",
    "\n",
    "# training constants\n",
    "EPOCHS = 30\n",
    "BATCH_SIZE = 16\n",
    "\n",
    "# read the training and testing images\n",
    "training_images = read_training_images(train_files, train_dir)\n",
    "testing_images = read_testing_images(test_dir)\n",
    "\n",
    "\n",
    "X_train = np.stack(training_images)\n",
    "y_train = train_files.annotation.values\n",
    "X_test = np.stack(testing_images)\n",
    "\n",
    "\n",
    "# Split the training data in training and validation sets\n",
    "X_train, X_val, y_train, y_val = train_test_split(X_train, y_train, test_size=0.2, random_state=None, shuffle=True, stratify=y_train)\n",
    "\n",
    "print(\"Shape of training set: {}\".format(X_train.shape))\n",
    "print(\"Shape of validation set: {}\".format(X_val.shape))\n",
    "print(\"Shape of testing set: {}\".format(X_test.shape))    "
   ]
  },
  {
   "cell_type": "code",
   "execution_count": 9,
   "metadata": {},
   "outputs": [
    {
     "name": "stdout",
     "output_type": "stream",
     "text": [
      "-------------------\n",
      "Compiling model\n",
      "-------------------\n",
      "WARNING:tensorflow:From C:\\tools\\Anaconda3\\envs\\tf\\lib\\site-packages\\tensorflow\\python\\ops\\init_ops.py:1251: calling VarianceScaling.__init__ (from tensorflow.python.ops.init_ops) with dtype is deprecated and will be removed in a future version.\n",
      "Instructions for updating:\n",
      "Call initializer instance with the dtype argument instead of passing it to the constructor\n",
      "Model: \"sequential\"\n",
      "_________________________________________________________________\n",
      "Layer (type)                 Output Shape              Param #   \n",
      "=================================================================\n",
      "block1_conv1 (Conv2D)        (None, 480, 640, 64)      1792      \n",
      "_________________________________________________________________\n",
      "block1_conv2 (Conv2D)        (None, 480, 640, 64)      36928     \n",
      "_________________________________________________________________\n",
      "block1_pool (MaxPooling2D)   (None, 240, 320, 64)      0         \n",
      "_________________________________________________________________\n",
      "block2_conv1 (Conv2D)        (None, 240, 320, 128)     73856     \n",
      "_________________________________________________________________\n",
      "block2_conv2 (Conv2D)        (None, 240, 320, 128)     147584    \n",
      "_________________________________________________________________\n",
      "block2_pool (MaxPooling2D)   (None, 120, 160, 128)     0         \n",
      "_________________________________________________________________\n",
      "block3_conv1 (Conv2D)        (None, 120, 160, 256)     295168    \n",
      "_________________________________________________________________\n",
      "block3_conv2 (Conv2D)        (None, 120, 160, 256)     590080    \n",
      "_________________________________________________________________\n",
      "block3_conv3 (Conv2D)        (None, 120, 160, 256)     590080    \n",
      "_________________________________________________________________\n",
      "block3_pool (MaxPooling2D)   (None, 60, 80, 256)       0         \n",
      "_________________________________________________________________\n",
      "block4_conv1 (Conv2D)        (None, 60, 80, 512)       1180160   \n",
      "_________________________________________________________________\n",
      "block4_conv2 (Conv2D)        (None, 60, 80, 512)       2359808   \n",
      "_________________________________________________________________\n",
      "block4_conv3 (Conv2D)        (None, 60, 80, 512)       2359808   \n",
      "_________________________________________________________________\n",
      "block4_pool (MaxPooling2D)   (None, 30, 40, 512)       0         \n",
      "_________________________________________________________________\n",
      "block5_conv1 (Conv2D)        (None, 30, 40, 512)       2359808   \n",
      "_________________________________________________________________\n",
      "block5_conv2 (Conv2D)        (None, 30, 40, 512)       2359808   \n",
      "_________________________________________________________________\n",
      "block5_conv3 (Conv2D)        (None, 30, 40, 512)       2359808   \n",
      "_________________________________________________________________\n",
      "flatten (Flatten)            (None, 614400)            0         \n",
      "_________________________________________________________________\n",
      "dense (Dense)                (None, 512)               314573312 \n",
      "_________________________________________________________________\n",
      "dropout (Dropout)            (None, 512)               0         \n",
      "_________________________________________________________________\n",
      "dense_1 (Dense)              (None, 512)               262656    \n",
      "_________________________________________________________________\n",
      "dropout_1 (Dropout)          (None, 512)               0         \n",
      "_________________________________________________________________\n",
      "dense_2 (Dense)              (None, 256)               131328    \n",
      "_________________________________________________________________\n",
      "dropout_2 (Dropout)          (None, 256)               0         \n",
      "_________________________________________________________________\n",
      "dense_3 (Dense)              (None, 5)                 1285      \n",
      "=================================================================\n",
      "Total params: 329,683,269\n",
      "Trainable params: 314,968,581\n",
      "Non-trainable params: 14,714,688\n",
      "_________________________________________________________________\n"
     ]
    }
   ],
   "source": [
    "print(\"-------------------\")\n",
    "print(\"Compiling model\")\n",
    "print(\"-------------------\")\n",
    "\n",
    "# initialize the model\n",
    "model = custom_vgg16(512, 512, 256, 0.4, \"relu\", COLS, ROWS, CHANNEL)\n",
    "\n",
    "model.summary()\n",
    "\n",
    "model.compile(loss=tf.keras.losses.sparse_categorical_crossentropy,\n",
    "                optimizer=tf.keras.optimizers.Adam(),\n",
    "                metrics=['accuracy'])"
   ]
  },
  {
   "cell_type": "code",
   "execution_count": 10,
   "metadata": {},
   "outputs": [
    {
     "name": "stdout",
     "output_type": "stream",
     "text": [
      "-------------------\n",
      "Training model\n",
      "-------------------\n",
      "Train on 716 samples, validate on 180 samples\n",
      "Epoch 1/30\n",
      "716/716 [==============================] - 19s 27ms/sample - loss: 87.4070 - acc: 0.4372 - val_loss: 12.9324 - val_acc: 0.5722\n",
      "Epoch 2/30\n",
      "716/716 [==============================] - 13s 18ms/sample - loss: 32.0457 - acc: 0.6229 - val_loss: 11.5751 - val_acc: 0.6944\n",
      "Epoch 3/30\n",
      "716/716 [==============================] - 13s 18ms/sample - loss: 16.5424 - acc: 0.7053 - val_loss: 5.9246 - val_acc: 0.7611\n",
      "Epoch 4/30\n",
      "716/716 [==============================] - 13s 18ms/sample - loss: 12.7750 - acc: 0.7207 - val_loss: 6.0757 - val_acc: 0.7556\n",
      "Epoch 5/30\n",
      "716/716 [==============================] - 13s 18ms/sample - loss: 8.2458 - acc: 0.7793 - val_loss: 7.9201 - val_acc: 0.7444\n",
      "Epoch 6/30\n",
      "716/716 [==============================] - 13s 18ms/sample - loss: 8.9537 - acc: 0.7723 - val_loss: 4.0130 - val_acc: 0.7389\n",
      "Epoch 7/30\n",
      "716/716 [==============================] - 13s 18ms/sample - loss: 5.7785 - acc: 0.8017 - val_loss: 5.5732 - val_acc: 0.7944\n",
      "Epoch 8/30\n",
      "716/716 [==============================] - 13s 18ms/sample - loss: 5.1466 - acc: 0.8296 - val_loss: 4.8476 - val_acc: 0.7722\n",
      "Epoch 9/30\n",
      "716/716 [==============================] - 13s 18ms/sample - loss: 4.5976 - acc: 0.8198 - val_loss: 5.0100 - val_acc: 0.7944\n",
      "Epoch 10/30\n",
      "716/716 [==============================] - 13s 18ms/sample - loss: 4.7023 - acc: 0.8687 - val_loss: 5.1812 - val_acc: 0.7833\n",
      "Epoch 11/30\n",
      "716/716 [==============================] - 13s 18ms/sample - loss: 3.9475 - acc: 0.8743 - val_loss: 6.6090 - val_acc: 0.8056\n",
      "Epoch 12/30\n",
      "716/716 [==============================] - 13s 18ms/sample - loss: 3.3566 - acc: 0.8701 - val_loss: 4.7270 - val_acc: 0.8444\n",
      "Epoch 13/30\n",
      "716/716 [==============================] - 13s 18ms/sample - loss: 3.3808 - acc: 0.8785 - val_loss: 3.8938 - val_acc: 0.8167\n",
      "Epoch 14/30\n",
      "716/716 [==============================] - 13s 18ms/sample - loss: 1.8802 - acc: 0.9078 - val_loss: 3.8437 - val_acc: 0.8000\n",
      "Epoch 15/30\n",
      "716/716 [==============================] - 13s 18ms/sample - loss: 2.0422 - acc: 0.9022 - val_loss: 4.8764 - val_acc: 0.8056\n",
      "Epoch 16/30\n",
      "716/716 [==============================] - 13s 18ms/sample - loss: 2.1342 - acc: 0.9008 - val_loss: 2.6058 - val_acc: 0.8333\n",
      "Epoch 17/30\n",
      "716/716 [==============================] - 13s 18ms/sample - loss: 2.2370 - acc: 0.9008 - val_loss: 3.7975 - val_acc: 0.8056\n",
      "Epoch 18/30\n",
      "716/716 [==============================] - 13s 18ms/sample - loss: 1.2604 - acc: 0.9106 - val_loss: 4.3758 - val_acc: 0.8056\n",
      "Epoch 19/30\n",
      "716/716 [==============================] - 13s 18ms/sample - loss: 2.0164 - acc: 0.9288 - val_loss: 5.7071 - val_acc: 0.8000\n",
      "Epoch 20/30\n",
      "716/716 [==============================] - 13s 18ms/sample - loss: 1.7151 - acc: 0.9246 - val_loss: 6.0510 - val_acc: 0.7889\n",
      "Epoch 21/30\n",
      "716/716 [==============================] - 13s 18ms/sample - loss: 1.4883 - acc: 0.9288 - val_loss: 5.5575 - val_acc: 0.7944\n",
      "Epoch 22/30\n",
      "716/716 [==============================] - 13s 18ms/sample - loss: 1.1328 - acc: 0.9385 - val_loss: 4.4451 - val_acc: 0.7889\n",
      "Epoch 23/30\n",
      "716/716 [==============================] - 13s 18ms/sample - loss: 1.3608 - acc: 0.9106 - val_loss: 6.1857 - val_acc: 0.8000\n",
      "Epoch 24/30\n",
      "716/716 [==============================] - 13s 18ms/sample - loss: 1.8081 - acc: 0.9232 - val_loss: 6.4829 - val_acc: 0.8111\n",
      "Epoch 25/30\n",
      "716/716 [==============================] - 13s 18ms/sample - loss: 0.8919 - acc: 0.9469 - val_loss: 5.7744 - val_acc: 0.8222\n",
      "Epoch 26/30\n",
      "716/716 [==============================] - 13s 18ms/sample - loss: 1.2705 - acc: 0.9274 - val_loss: 5.0209 - val_acc: 0.8222\n",
      "Epoch 27/30\n",
      "716/716 [==============================] - 13s 18ms/sample - loss: 1.3427 - acc: 0.9399 - val_loss: 6.0810 - val_acc: 0.8111\n",
      "Epoch 28/30\n",
      "716/716 [==============================] - 13s 18ms/sample - loss: 1.5451 - acc: 0.9539 - val_loss: 5.2446 - val_acc: 0.8333\n",
      "Epoch 29/30\n",
      "716/716 [==============================] - 13s 18ms/sample - loss: 0.8216 - acc: 0.9413 - val_loss: 5.2552 - val_acc: 0.8278\n",
      "Epoch 30/30\n",
      "716/716 [==============================] - 13s 18ms/sample - loss: 0.9240 - acc: 0.9385 - val_loss: 6.1826 - val_acc: 0.7611\n"
     ]
    },
    {
     "data": {
      "image/png": "[encoded data removed]",
      "text/plain": [
       "<Figure size 432x288 with 1 Axes>"
      ]
     },
     "metadata": {
      "needs_background": "light"
     },
     "output_type": "display_data"
    },
    {
     "data": {
      "image/png": "[encoded data removed]",
      "text/plain": [
       "<Figure size 432x288 with 1 Axes>"
      ]
     },
     "metadata": {
      "needs_background": "light"
     },
     "output_type": "display_data"
    }
   ],
   "source": [
    "print(\"-------------------\")\n",
    "print(\"Training model\")\n",
    "print(\"-------------------\")\n",
    "\n",
    "with tf.device('/device:GPU:0'):\n",
    "    history = model.fit(X_train, y_train, batch_size=BATCH_SIZE, epochs=EPOCHS, validation_data=(X_val, y_val))\n",
    "\n",
    "\n",
    "predictions = model.predict(X_test, batch_size=16)\n",
    "\n",
    "generate_plots(history, EPOCHS)\n",
    "\n",
    "best_results(history)"
   ]
  },
  {
   "cell_type": "code",
   "execution_count": 11,
   "metadata": {},
   "outputs": [],
   "source": [
    "test_labels = np.asarray([np.argmax(prediction) for prediction in predictions])\n",
    "np.savetxt(\"predictions.csv\", test_labels, fmt=\"%d\", delimiter=\",\")"
   ]
  },
  {
   "cell_type": "code",
   "execution_count": 15,
   "metadata": {},
   "outputs": [],
   "source": [
    "test_labels = [np.argmax(prediction) for prediction in predictions]\n",
    "\n",
    "import csv\n",
    "with open('file.csv', 'w', newline='') as myfile:\n",
    "    wr = csv.writer(myfile, quoting=csv.QUOTE_ALL)\n",
    "    wr.writerow(test_labels)"
   ]
  },
  {
   "cell_type": "code",
   "execution_count": null,
   "metadata": {},
   "outputs": [],
   "source": []
  }
 ],
 "metadata": {
  "jupytext": {
   "cell_metadata_filter": "-all",
   "encoding": "# -*- coding: utf-8 -*-",
   "main_language": "python",
   "notebook_metadata_filter": "-all"
  },
  "kernelspec": {
   "display_name": "Python 3",
   "language": "python",
   "name": "python3"
  },
  "language_info": {
   "codemirror_mode": {
    "name": "ipython",
    "version": 3
   },
   "file_extension": ".py",
   "mimetype": "text/x-python",
   "name": "python",
   "nbconvert_exporter": "python",
   "pygments_lexer": "ipython3",
   "version": "3.7.1"
  }
 },
 "nbformat": 4,
 "nbformat_minor": 2
}
